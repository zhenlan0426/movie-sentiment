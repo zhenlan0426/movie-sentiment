{
 "cells": [
  {
   "cell_type": "code",
   "execution_count": 1,
   "metadata": {},
   "outputs": [],
   "source": [
    "import pickle\n",
    "import numpy as np\n",
    "import pandas as pd\n",
    "from torch.utils.data import Dataset,DataLoader,RandomSampler,SequentialSampler,TensorDataset\n",
    "from pytorch_pretrained_bert.modeling import BertForSequenceClassification\n",
    "from pytorch_pretrained_bert.optimization import BertAdam\n",
    "from pytorch_util import *\n",
    "from sklearn.metrics import roc_auc_score"
   ]
  },
  {
   "cell_type": "code",
   "execution_count": 7,
   "metadata": {},
   "outputs": [],
   "source": [
    "batch_size = 16\n",
    "num_train_epochs = 4\n",
    "max_len = 64"
   ]
  },
  {
   "cell_type": "code",
   "execution_count": null,
   "metadata": {},
   "outputs": [],
   "source": []
  },
  {
   "cell_type": "code",
   "execution_count": 3,
   "metadata": {},
   "outputs": [],
   "source": [
    "with open('../Data/precessed_reviews.pickle', 'rb') as fp:\n",
    "    precessed_reviews = pickle.load(fp)\n",
    "with open('../Data/targets.pickle', 'rb') as fp:\n",
    "    targets = pickle.load(fp) \n",
    "with open('../Data/precessed_reviews_test.pickle', 'rb') as fp:\n",
    "    precessed_reviews_test = pickle.load(fp)     "
   ]
  },
  {
   "cell_type": "code",
   "execution_count": null,
   "metadata": {},
   "outputs": [],
   "source": []
  },
  {
   "cell_type": "code",
   "execution_count": null,
   "metadata": {},
   "outputs": [],
   "source": []
  },
  {
   "cell_type": "code",
   "execution_count": 4,
   "metadata": {},
   "outputs": [],
   "source": [
    "class TextGenerator(Dataset):\n",
    "    def __init__(self, reviews,targets,max_len=64):\n",
    "        self.reviews = reviews\n",
    "        self.targets = targets\n",
    "        self.max_len = max_len\n",
    "        self.length = [len(r)+2 for r in reviews]#+2 for CLS and SEP\n",
    "        self.segment_ids = np.zeros(max_len,dtype=np.long)\n",
    "        self.CLS = [101]\n",
    "        self.SEP = [102]\n",
    "\n",
    "    def __len__(self):\n",
    "        return len(self.reviews)\n",
    "\n",
    "    def __getitem__(self, index):\n",
    "        review = self.reviews[index]\n",
    "        len_ = self.length[index]\n",
    "        if len_ < self.max_len:\n",
    "            padding = [0] * (self.max_len - len_)\n",
    "            input_mask = [1] * len_\n",
    "            input_ids = self.CLS + review + self.SEP + padding\n",
    "            input_mask += padding\n",
    "        elif len_ == self.max_len:\n",
    "            input_ids = self.CLS + review + self.SEP\n",
    "            input_mask = [1] * len_\n",
    "        else:\n",
    "            start = np.random.randint(0,len_-self.max_len+1)\n",
    "            input_ids = self.CLS + review[start:start+self.max_len-2] + self.SEP\n",
    "            input_mask = [1] * self.max_len\n",
    "        return np.array(input_ids,dtype=np.long),np.array(input_mask,dtype=np.long),\\\n",
    "                self.segment_ids,self.targets[index]"
   ]
  },
  {
   "cell_type": "code",
   "execution_count": null,
   "metadata": {},
   "outputs": [],
   "source": []
  },
  {
   "cell_type": "markdown",
   "metadata": {},
   "source": [
    "Dataset"
   ]
  },
  {
   "cell_type": "code",
   "execution_count": 5,
   "metadata": {},
   "outputs": [],
   "source": [
    "train_size = 20000\n",
    "train_gen = TextGenerator(precessed_reviews[:train_size],targets[:train_size],max_len)\n",
    "train_gen = DataLoader(train_gen,batch_size,sampler=RandomSampler(train_gen),num_workers=2)\n",
    "\n",
    "val_gen = TextGenerator(precessed_reviews[train_size:],targets[train_size:],max_len)\n",
    "val_gen = DataLoader(val_gen,batch_size,sampler=SequentialSampler(train_gen),num_workers=2)"
   ]
  },
  {
   "cell_type": "code",
   "execution_count": 221,
   "metadata": {},
   "outputs": [],
   "source": [
    "#inputs,inputs_mask,segment_ids,ys = next(iter(val_gen))"
   ]
  },
  {
   "cell_type": "code",
   "execution_count": null,
   "metadata": {},
   "outputs": [],
   "source": []
  },
  {
   "cell_type": "markdown",
   "metadata": {},
   "source": [
    "Model"
   ]
  },
  {
   "cell_type": "code",
   "execution_count": 6,
   "metadata": {},
   "outputs": [],
   "source": [
    "model = BertForSequenceClassification.from_pretrained('bert-base-uncased',num_labels=2).to('cuda:0')"
   ]
  },
  {
   "cell_type": "code",
   "execution_count": null,
   "metadata": {},
   "outputs": [],
   "source": []
  },
  {
   "cell_type": "markdown",
   "metadata": {},
   "source": [
    "Optimizer"
   ]
  },
  {
   "cell_type": "code",
   "execution_count": 8,
   "metadata": {},
   "outputs": [],
   "source": [
    "param_optimizer = list(model.named_parameters())\n",
    "no_decay = ['bias', 'LayerNorm.bias', 'LayerNorm.weight']\n",
    "optimizer_grouped_parameters = [\n",
    "    {'params': [p for n, p in param_optimizer if not any(nd in n for nd in no_decay)], 'weight_decay': 0.01},\n",
    "    {'params': [p for n, p in param_optimizer if any(nd in n for nd in no_decay)], 'weight_decay': 0.0}\n",
    "    ]"
   ]
  },
  {
   "cell_type": "code",
   "execution_count": 9,
   "metadata": {},
   "outputs": [],
   "source": [
    "num_train_optimization_steps = int(len(train_gen) * num_train_epochs)"
   ]
  },
  {
   "cell_type": "code",
   "execution_count": 10,
   "metadata": {},
   "outputs": [],
   "source": [
    "opt = BertAdam(optimizer_grouped_parameters,\n",
    "                     lr=5e-5,\n",
    "                     warmup=0.1,\n",
    "                     t_total=num_train_optimization_steps)"
   ]
  },
  {
   "cell_type": "code",
   "execution_count": null,
   "metadata": {},
   "outputs": [],
   "source": []
  },
  {
   "cell_type": "markdown",
   "metadata": {},
   "source": [
    "Loss"
   ]
  },
  {
   "cell_type": "code",
   "execution_count": 11,
   "metadata": {},
   "outputs": [],
   "source": [
    "def loss_func(model,data):\n",
    "    inputs,inputs_mask,segment_ids,ys = data\n",
    "    loss = model(inputs,segment_ids,inputs_mask,ys)\n",
    "    return loss"
   ]
  },
  {
   "cell_type": "code",
   "execution_count": null,
   "metadata": {},
   "outputs": [],
   "source": []
  },
  {
   "cell_type": "markdown",
   "metadata": {},
   "source": [
    "Training"
   ]
  },
  {
   "cell_type": "code",
   "execution_count": 12,
   "metadata": {},
   "outputs": [
    {
     "name": "stdout",
     "output_type": "stream",
     "text": [
      "epoch:0, train_loss:0.4492339190542698, val_loss:0.11312240362167358\n",
      "epoch:1, train_loss:0.33975954596996305, val_loss:0.0856446847319603\n",
      "epoch:2, train_loss:0.2796365533143282, val_loss:0.0888269692659378\n",
      "epoch:3, train_loss:0.23037153880000114, val_loss:0.09252633154392242\n",
      "epoch:4, train_loss:0.194124737149477, val_loss:0.08916087448596954\n",
      "Training completed in 1054.6581809520721s\n"
     ]
    }
   ],
   "source": [
    "model = fit(num_train_epochs, model, loss_func, opt, train_gen, val_gen)"
   ]
  },
  {
   "cell_type": "code",
   "execution_count": null,
   "metadata": {},
   "outputs": [],
   "source": []
  },
  {
   "cell_type": "code",
   "execution_count": 13,
   "metadata": {},
   "outputs": [],
   "source": [
    "def batchedSeq(reviews,max_len):\n",
    "    # used for TTA\n",
    "    CLS = [101]\n",
    "    SEP = [102]\n",
    "    length = [len(i)+2 for i in reviews]\n",
    "    input_ids = []\n",
    "    input_masks = []\n",
    "    seg_len = []\n",
    "    for len_,review in zip(length,reviews):\n",
    "        if len_ < max_len:\n",
    "            padding = [0] * (max_len - len_)\n",
    "            input_mask = [1] * len_\n",
    "            input_id = CLS + review + SEP + padding\n",
    "            input_mask += padding\n",
    "            input_ids.append(input_id)\n",
    "            input_masks.append(input_mask)\n",
    "            seg_len.append(1)\n",
    "        elif len_ == max_len:\n",
    "            input_id = CLS + review + SEP\n",
    "            input_mask = [1] * len_\n",
    "            input_ids.append(input_id)\n",
    "            input_masks.append(input_mask)\n",
    "            seg_len.append(1)\n",
    "        else:\n",
    "            for j in range((len_-2)//(max_len-2)):\n",
    "                input_id = CLS + review[j*(max_len-2):j*(max_len-2)+(max_len-2)] + SEP\n",
    "                input_mask = [1] * max_len\n",
    "                input_ids.append(input_id)\n",
    "                input_masks.append(input_mask)\n",
    "            seg_len.append((len_-2)//(max_len-2))\n",
    "            \n",
    "    return np.array(input_ids,dtype=np.long),np.array(input_masks,dtype=np.long),\\\n",
    "                np.zeros((len(input_ids),max_len),dtype=np.long),seg_len"
   ]
  },
  {
   "cell_type": "code",
   "execution_count": 14,
   "metadata": {},
   "outputs": [],
   "source": [
    "inputs,inputs_mask,segment_ids,seg_len = batchedSeq(precessed_reviews[train_size:],max_len)\n",
    "TTA_val_gen = TensorDataset(*[torch.tensor(i) for i in [inputs,segment_ids,inputs_mask]])\n",
    "TTA_val_gen = DataLoader(TTA_val_gen,batch_size,num_workers=2)"
   ]
  },
  {
   "cell_type": "code",
   "execution_count": null,
   "metadata": {},
   "outputs": [],
   "source": []
  },
  {
   "cell_type": "code",
   "execution_count": 16,
   "metadata": {},
   "outputs": [],
   "source": [
    "def predict(model,dataloader,to_numpy=True):\n",
    "    # dataloader return Xs only\n",
    "    model.eval()\n",
    "    with torch.no_grad():\n",
    "        out = torch.cat([model(*data2cuda(data)) for data in dataloader])\n",
    "        return out.cpu().detach().numpy() if to_numpy else out"
   ]
  },
  {
   "cell_type": "code",
   "execution_count": 17,
   "metadata": {
    "scrolled": false
   },
   "outputs": [],
   "source": [
    "yhat = predict(model,TTA_val_gen)"
   ]
  },
  {
   "cell_type": "code",
   "execution_count": 18,
   "metadata": {},
   "outputs": [],
   "source": [
    "seg_len = np.cumsum(np.array(seg_len))\n",
    "seg_len = np.insert(seg_len, 0, 0)"
   ]
  },
  {
   "cell_type": "code",
   "execution_count": null,
   "metadata": {},
   "outputs": [],
   "source": []
  },
  {
   "cell_type": "code",
   "execution_count": 20,
   "metadata": {},
   "outputs": [],
   "source": [
    "yhat_agg = []\n",
    "for i in range(seg_len.shape[0]-1):\n",
    "    yhat_agg.append(yhat[seg_len[i]:seg_len[i+1]].mean(0))\n",
    "yhat_agg = np.array(yhat_agg)"
   ]
  },
  {
   "cell_type": "code",
   "execution_count": 21,
   "metadata": {},
   "outputs": [
    {
     "data": {
      "text/plain": [
       "0.9132"
      ]
     },
     "execution_count": 21,
     "metadata": {},
     "output_type": "execute_result"
    }
   ],
   "source": [
    "# validation accuracy\n",
    "np.sum(yhat_agg.argmax(1) == np.array(targets[train_size:]))/yhat_agg.shape[0]"
   ]
  },
  {
   "cell_type": "code",
   "execution_count": null,
   "metadata": {},
   "outputs": [],
   "source": []
  },
  {
   "cell_type": "code",
   "execution_count": 22,
   "metadata": {},
   "outputs": [],
   "source": [
    "yhat_prob = np.exp(yhat)\n",
    "yhat_prob = yhat_prob/yhat_prob.sum(1,keepdims=True)"
   ]
  },
  {
   "cell_type": "code",
   "execution_count": 23,
   "metadata": {},
   "outputs": [],
   "source": [
    "yhat_agg2 = []\n",
    "for i in range(seg_len.shape[0]-1):\n",
    "    yhat_agg2.append(yhat_prob[seg_len[i]:seg_len[i+1]].mean(0))\n",
    "yhat_agg2 = np.array(yhat_agg2)"
   ]
  },
  {
   "cell_type": "code",
   "execution_count": 24,
   "metadata": {},
   "outputs": [
    {
     "data": {
      "text/plain": [
       "0.9096"
      ]
     },
     "execution_count": 24,
     "metadata": {},
     "output_type": "execute_result"
    }
   ],
   "source": [
    "# validation accuracy\n",
    "np.sum(yhat_agg2.argmax(1) == np.array(targets[train_size:]))/yhat_agg.shape[0]"
   ]
  },
  {
   "cell_type": "code",
   "execution_count": 25,
   "metadata": {},
   "outputs": [
    {
     "data": {
      "text/plain": [
       "0.9638380238417107"
      ]
     },
     "execution_count": 25,
     "metadata": {},
     "output_type": "execute_result"
    }
   ],
   "source": [
    "# AUC\n",
    "roc_auc_score(np.array(targets[train_size:]),yhat_agg2[:,1])"
   ]
  },
  {
   "cell_type": "code",
   "execution_count": null,
   "metadata": {},
   "outputs": [],
   "source": []
  },
  {
   "cell_type": "markdown",
   "metadata": {},
   "source": [
    "Submission"
   ]
  },
  {
   "cell_type": "code",
   "execution_count": 26,
   "metadata": {},
   "outputs": [],
   "source": [
    "submission = pd.read_csv('../Data/sampleSubmission.csv')"
   ]
  },
  {
   "cell_type": "code",
   "execution_count": 43,
   "metadata": {},
   "outputs": [],
   "source": [
    "inputs,inputs_mask,segment_ids,seg_len = batchedSeq(precessed_reviews_test,max_len)\n",
    "TTA_val_gen = TensorDataset(*[torch.tensor(i) for i in [inputs,segment_ids,inputs_mask]])\n",
    "TTA_val_gen = DataLoader(TTA_val_gen,batch_size,num_workers=2)"
   ]
  },
  {
   "cell_type": "code",
   "execution_count": 46,
   "metadata": {},
   "outputs": [],
   "source": [
    "ytest = predict(model,TTA_val_gen)"
   ]
  },
  {
   "cell_type": "code",
   "execution_count": 47,
   "metadata": {},
   "outputs": [],
   "source": [
    "seg_len = np.cumsum(np.array(seg_len))\n",
    "seg_len = np.insert(seg_len, 0, 0)"
   ]
  },
  {
   "cell_type": "code",
   "execution_count": 48,
   "metadata": {},
   "outputs": [],
   "source": [
    "yhat_agg = []\n",
    "for i in range(seg_len.shape[0]-1):\n",
    "    yhat_agg.append(ytest[seg_len[i]:seg_len[i+1]].mean(0))\n",
    "yhat_agg = np.array(yhat_agg)"
   ]
  },
  {
   "cell_type": "code",
   "execution_count": 52,
   "metadata": {},
   "outputs": [],
   "source": [
    "yhat_prob = np.exp(yhat_agg)\n",
    "yhat_prob = yhat_prob/yhat_prob.sum(1,keepdims=True)"
   ]
  },
  {
   "cell_type": "code",
   "execution_count": 53,
   "metadata": {},
   "outputs": [],
   "source": [
    "submission.iloc[:,1] = yhat_prob[:,1]"
   ]
  },
  {
   "cell_type": "code",
   "execution_count": 54,
   "metadata": {},
   "outputs": [],
   "source": [
    "submission.to_csv('../Submission/BERT.csv',index=False)"
   ]
  },
  {
   "cell_type": "code",
   "execution_count": null,
   "metadata": {},
   "outputs": [],
   "source": []
  },
  {
   "cell_type": "code",
   "execution_count": null,
   "metadata": {},
   "outputs": [],
   "source": []
  }
 ],
 "metadata": {
  "kernelspec": {
   "display_name": "Python 3",
   "language": "python",
   "name": "python3"
  },
  "language_info": {
   "codemirror_mode": {
    "name": "ipython",
    "version": 3
   },
   "file_extension": ".py",
   "mimetype": "text/x-python",
   "name": "python",
   "nbconvert_exporter": "python",
   "pygments_lexer": "ipython3",
   "version": "3.7.2"
  }
 },
 "nbformat": 4,
 "nbformat_minor": 2
}
