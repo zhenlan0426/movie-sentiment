{
 "cells": [
  {
   "cell_type": "markdown",
   "metadata": {},
   "source": [
    "## Index\n",
    "1. [Model1](#model1) - Convolution layers over word2vec \n",
    "2. [Model2](#model2) - RNN over word2vec\n",
    "3. [Model3](#model3) - doc2vec using TF-IDF with word2vec\n",
    "0. [Prediction](#predict) "
   ]
  },
  {
   "cell_type": "code",
   "execution_count": 42,
   "metadata": {
    "collapsed": false
   },
   "outputs": [],
   "source": [
    "import pandas as pd       \n",
    "import numpy as np\n",
    "from bs4 import BeautifulSoup\n",
    "import nltk\n",
    "from nltk.corpus import stopwords\n",
    "import gensim\n",
    "from gensim.models import Word2Vec\n",
    "import re\n",
    "import lasagne\n",
    "from lasagne import layers\n",
    "from lasagne.layers import InputLayer,Conv1DLayer,rrelu,prelu,batch_norm,\\\n",
    "DenseLayer,ExpressionLayer,MaxPool1DLayer,GRULayer,ConcatLayer,ElemwiseMergeLayer,Gate\n",
    "from lasagne.updates import nesterov_momentum,adam\n",
    "from lasagne.nonlinearities import very_leaky_rectify,tanh\n",
    "from theano import tensor as tt\n",
    "import theano\n",
    "import matplotlib.pyplot as plt\n",
    "from GBM2 import GBM_KClass\n",
    "from sklearn.base import BaseEstimator, ClassifierMixin\n",
    "from sklearn.cross_validation import KFold\n",
    "from sklearn.tree import DecisionTreeRegressor,DecisionTreeClassifier,ExtraTreeClassifier,ExtraTreeRegressor\n",
    "from sklearn.metrics import roc_auc_score \n",
    "from hyperopt import fmin, tpe, hp, STATUS_OK, Trials\n",
    "from hyperopt.pyll.stochastic import sample\n",
    "%matplotlib inline"
   ]
  },
  {
   "cell_type": "code",
   "execution_count": 2,
   "metadata": {
    "collapsed": true
   },
   "outputs": [],
   "source": [
    "train = pd.read_csv(\"/home/will/Desktop/data/Movie sentiment/labeledTrainData.tsv\", header=0, \\\n",
    "                    delimiter=\"\\t\", quoting=3)"
   ]
  },
  {
   "cell_type": "code",
   "execution_count": 3,
   "metadata": {
    "collapsed": true
   },
   "outputs": [],
   "source": [
    "test = pd.read_csv(\"/home/will/Desktop/data/Movie sentiment/testData.tsv\", header=0, \\\n",
    "                    delimiter=\"\\t\", quoting=3)"
   ]
  },
  {
   "cell_type": "markdown",
   "metadata": {
    "collapsed": true
   },
   "source": [
    "unlabel = pd.read_csv(\"/home/will/Desktop/data/Movie sentiment/unlabeledTrainData.tsv\", header=0, \\\n",
    "                    delimiter=\"\\t\", quoting=3)"
   ]
  },
  {
   "cell_type": "code",
   "execution_count": 4,
   "metadata": {
    "collapsed": false
   },
   "outputs": [],
   "source": [
    "model = Word2Vec.load_word2vec_format('/home/will/Desktop/data/Word2Vec/GoogleNews-vectors-negative300.bin', binary=True)  "
   ]
  },
  {
   "cell_type": "code",
   "execution_count": 5,
   "metadata": {
    "collapsed": false
   },
   "outputs": [],
   "source": [
    "def review_to_wordlist(review,stop):\n",
    "\n",
    "    review_text = BeautifulSoup(review).get_text()\n",
    "    review_text = re.sub(\"[^a-zA-Z]\",\" \", review_text)\n",
    "    words = review_text.lower().split()\n",
    "    \n",
    "    words = [w for w in words if not w in stops]\n",
    "\n",
    "    return words"
   ]
  },
  {
   "cell_type": "code",
   "execution_count": 6,
   "metadata": {
    "collapsed": true
   },
   "outputs": [],
   "source": [
    "stops = set(stopwords.words(\"english\"))"
   ]
  },
  {
   "cell_type": "code",
   "execution_count": 7,
   "metadata": {
    "collapsed": false
   },
   "outputs": [
    {
     "name": "stderr",
     "output_type": "stream",
     "text": [
      "/home/will/anaconda2/lib/python2.7/site-packages/bs4/__init__.py:181: UserWarning: No parser was explicitly specified, so I'm using the best available HTML parser for this system (\"lxml\"). This usually isn't a problem, but if you run this code on another system, or in a different virtual environment, it may use a different parser and behave differently.\n",
      "\n",
      "The code that caused this warning is on line 174 of the file /home/will/anaconda2/lib/python2.7/runpy.py. To get rid of this warning, change code that looks like this:\n",
      "\n",
      " BeautifulSoup([your markup])\n",
      "\n",
      "to this:\n",
      "\n",
      " BeautifulSoup([your markup], \"lxml\")\n",
      "\n",
      "  markup_type=markup_type))\n"
     ]
    }
   ],
   "source": [
    "X_str = []\n",
    "for i in range(train.shape[0]):\n",
    "    X_str.append(review_to_wordlist(train.review.iloc[i],stops))"
   ]
  },
  {
   "cell_type": "code",
   "execution_count": 8,
   "metadata": {
    "collapsed": true
   },
   "outputs": [],
   "source": [
    "X_str_test = []\n",
    "for i in range(test.shape[0]):\n",
    "    X_str_test.append(review_to_wordlist(test.review.iloc[i],stops))"
   ]
  },
  {
   "cell_type": "code",
   "execution_count": 9,
   "metadata": {
    "collapsed": false
   },
   "outputs": [],
   "source": [
    "y = train.sentiment.values"
   ]
  },
  {
   "cell_type": "code",
   "execution_count": 10,
   "metadata": {
    "collapsed": false
   },
   "outputs": [],
   "source": [
    "n = y.shape[0]\n",
    "y_np = np.zeros((n,2))\n",
    "y_np[range(n),y]=1\n",
    "y_np=y_np.astype('int64')"
   ]
  },
  {
   "cell_type": "code",
   "execution_count": 11,
   "metadata": {
    "collapsed": true
   },
   "outputs": [],
   "source": [
    "X_train = X_str[:20000]\n",
    "y_train = y_np[:20000]\n",
    "X_val = X_str[20000:]\n",
    "y_val = y_np[20000:]"
   ]
  },
  {
   "cell_type": "markdown",
   "metadata": {
    "collapsed": true
   },
   "source": [
    "unlabel_str = []\n",
    "for i in range(unlabel.shape[0]):\n",
    "    unlabel_str.append(review_to_wordlist(unlabel.review.iloc[i],stops))"
   ]
  },
  {
   "cell_type": "code",
   "execution_count": null,
   "metadata": {
    "collapsed": true
   },
   "outputs": [],
   "source": []
  },
  {
   "cell_type": "markdown",
   "metadata": {},
   "source": [
    "Build Batch iterator"
   ]
  },
  {
   "cell_type": "code",
   "execution_count": 12,
   "metadata": {
    "collapsed": true
   },
   "outputs": [],
   "source": [
    "def batch_iterator(X, y, WordVec, batchsize, shuffle=False, sublen=1.0):\n",
    "    # inputs is a list of list, targets in np.ndarray\n",
    "    # random \"crop\" of review, with length = int(min(sentence lenth in batch) * sublen)\n",
    "    \n",
    "    n = len(X)\n",
    "    if shuffle:\n",
    "        indices = np.random.permutation(n)\n",
    "    else:\n",
    "        indices = range(n)\n",
    "\n",
    "    for start_idx in range(0, n - batchsize + 1, batchsize):\n",
    "        length_ = np.zeros(batchsize,dtype='int64')\n",
    "        batch_ = indices[start_idx:start_idx + batchsize]\n",
    "        for i,j in enumerate(batch_): # find the min_len of batch\n",
    "            length_[i] = len(X[j])\n",
    "        min_len = int(length_.min() * sublen)\n",
    "        sample_len = length_ - min_len + 1\n",
    "\n",
    "        for i in range(batchsize): # sample start position\n",
    "            sample_len[i] = np.random.randint(sample_len[i])\n",
    "        \n",
    "        X_batch = np.zeros((batchsize,300,min_len)) # 300 is the word vector's length\n",
    "        \n",
    "        for i in range(batchsize):\n",
    "            for j in range(min_len):\n",
    "                if X[batch_[i]][sample_len[i]+j] in WordVec:\n",
    "                    X_batch[i,:,j] = WordVec[X[batch_[i]][sample_len[i]+j]]\n",
    "\n",
    "        if y==None: # test \n",
    "            yield X_batch.astype('float32'), batch_\n",
    "        else:\n",
    "            yield X_batch.astype('float32'), y[batch_].astype('float32')"
   ]
  },
  {
   "cell_type": "code",
   "execution_count": 49,
   "metadata": {
    "collapsed": true
   },
   "outputs": [],
   "source": [
    "def batch_iterator_rnn(X, y, WordVec, batchsize, shuffle=False, sublen=1.0):\n",
    "    # inputs is a list of list, targets in np.ndarray\n",
    "    # random \"crop\" of review, with length = int(min(sentence lenth in batch) * sublen)\n",
    "    \n",
    "    n = len(X)\n",
    "    if shuffle:\n",
    "        indices = np.random.permutation(n)\n",
    "    else:\n",
    "        indices = range(n)\n",
    "\n",
    "    for start_idx in range(0, n - batchsize + 1, batchsize):\n",
    "        length_ = np.zeros(batchsize,dtype='int64')\n",
    "        batch_ = indices[start_idx:start_idx + batchsize]\n",
    "        for i,j in enumerate(batch_): # find the min_len of batch\n",
    "            length_[i] = len(X[j])\n",
    "        min_len = int(length_.min() * sublen)\n",
    "        sample_len = length_ - min_len + 1\n",
    "\n",
    "        for i in range(batchsize): # sample start position\n",
    "            sample_len[i] = np.random.randint(sample_len[i])\n",
    "        \n",
    "        X_batch = np.zeros((batchsize,min_len,300)) # 300 is the word vector's length\n",
    "        \n",
    "        for i in range(batchsize):\n",
    "            for j in range(min_len):\n",
    "                if X[batch_[i]][sample_len[i]+j] in WordVec:\n",
    "                    X_batch[i,j,:] = WordVec[X[batch_[i]][sample_len[i]+j]]\n",
    "        \n",
    "        #if np.random.rand()<flip:\n",
    "        #    X_batch = X_batch[:,::-1,:]\n",
    "            \n",
    "        if y==None: # test \n",
    "            yield X_batch.astype('float32'), batch_\n",
    "        else:\n",
    "            yield X_batch.astype('float32'), y[batch_].astype('float32')"
   ]
  },
  {
   "cell_type": "code",
   "execution_count": null,
   "metadata": {
    "collapsed": true
   },
   "outputs": [],
   "source": []
  },
  {
   "cell_type": "code",
   "execution_count": null,
   "metadata": {
    "collapsed": true
   },
   "outputs": [],
   "source": []
  },
  {
   "cell_type": "code",
   "execution_count": null,
   "metadata": {
    "collapsed": true
   },
   "outputs": [],
   "source": []
  },
  {
   "cell_type": "code",
   "execution_count": null,
   "metadata": {
    "collapsed": true
   },
   "outputs": [],
   "source": []
  },
  {
   "cell_type": "code",
   "execution_count": 248,
   "metadata": {
    "collapsed": false
   },
   "outputs": [],
   "source": [
    "def create_fun(batch_size, n_layer,n_filter,filter_size,connect_layer,ExpressFun,n_dense,\\\n",
    "               update_dic):\n",
    "    \n",
    "    update_method = update_dic['mtd']\n",
    "    update_para = update_dic['para']\n",
    "    \n",
    "    X_tt = tt.tensor3()\n",
    "    y_tt = tt.matrix()\n",
    "    \n",
    "    net = InputLayer(shape=(batch_size,300,None),input_var=X_tt)\n",
    "    \n",
    "    for _ in range(n_layer):\n",
    "        net = connect_layer(Conv1DLayer(net,n_filter,filter_size,pad='same'))\n",
    "\n",
    "    net = ExpressionLayer(net, lambda X: ExpressFun(X,2),output_shape=(batch_size,n_filter))\n",
    "    net = connect_layer(DenseLayer(net, num_units=n_dense))\n",
    "    net = DenseLayer(net, num_units=2,nonlinearity=tt.nnet.softmax)\n",
    "    \n",
    "    Y_hat = layers.get_output(net)\n",
    "    Y_hat_test = layers.get_output(net,deterministic=True)\n",
    "    \n",
    "    cost = -tt.sum(tt.log(Y_hat)*y_tt)\n",
    "    params = lasagne.layers.get_all_params(net, trainable=True)\n",
    "    updates = update_method(cost, params, **update_para)\n",
    "    train_fn = theano.function([X_tt, y_tt], updates=updates)\n",
    "    predict  = theano.function([X_tt],Y_hat_test)\n",
    "    \n",
    "    return train_fn, predict"
   ]
  },
  {
   "cell_type": "code",
   "execution_count": 249,
   "metadata": {
    "collapsed": true
   },
   "outputs": [],
   "source": [
    "def hyperPara(params):\n",
    "    \n",
    "    batch_size=int(params[0])\n",
    "    n_layer=int(params[1])\n",
    "    n_filter=int(params[2])\n",
    "    filter_size=int(params[3])\n",
    "    connect_layer=params[4]\n",
    "    ExpressFun=params[5]\n",
    "    n_dense=int(params[6])\n",
    "    update_dic=params[7]\n",
    "    \n",
    "    n_batch = 30\n",
    "    best_score = .0\n",
    "    counter = 0\n",
    "    yhat = np.zeros((len(X_val),2))\n",
    "    \n",
    "    train_fn, predict = create_fun(batch_size, n_layer,n_filter,filter_size,connect_layer,ExpressFun,n_dense,\\\n",
    "                                   update_dic)\n",
    "    \n",
    "    for i in range(n_batch):\n",
    "\n",
    "        for x_bat,y_bat in batch_iterator(X_train, y_train, model, batch_size, shuffle=True, sublen=1.0):\n",
    "            train_fn(x_bat,y_bat)\n",
    "\n",
    "        for x_bat,batch in batch_iterator(X_val, None, model, batch_size, shuffle=False, sublen=1.0):\n",
    "            yhat[batch]=predict(x_bat)\n",
    "\n",
    "        score_ = roc_auc_score(np.argmax(y_val,1),yhat[:,1])\n",
    "        \n",
    "        if score_ > best_score:\n",
    "            best_score = score_\n",
    "            counter = 0\n",
    "        else:\n",
    "            counter+=1\n",
    "            if counter > 2 and i > 10: # early stop\n",
    "                break \n",
    "        \n",
    "        \n",
    "    print 'batch_size:{}, n_layer:{},n_filter:{},filter_size:{},connect_layer:{},ExpressFun:{},n_dense:{},\\\n",
    "              update_method:{}, update_para:{}, accuracy:{}'\\\n",
    "    .format(batch_size, n_layer,n_filter,filter_size,connect_layer,ExpressFun,n_dense,\\\n",
    "              update_dic['mtd'], update_dic['para'],best_score)    \n",
    "    \n",
    "    return -best_score "
   ]
  },
  {
   "cell_type": "code",
   "execution_count": 250,
   "metadata": {
    "collapsed": false
   },
   "outputs": [],
   "source": [
    "space =[hp.quniform('batch_size',10,40,5),\\\n",
    "        hp.quniform('n_layer',1,5,1),\\\n",
    "        hp.quniform('n_filter',100,500,100),\\\n",
    "        hp.quniform('filter_size',3,10,2) - 1,\\\n",
    "        hp.choice('connect_layer',[rrelu,prelu,batch_norm]),\\\n",
    "        hp.choice('ExpressFun',[tt.max, tt.mean]),\\\n",
    "        hp.quniform('n_dense',50,300,50),\\\n",
    "        hp.choice('update_method',\\\n",
    "                  [{'mtd':nesterov_momentum, 'para':{'learning_rate':2e-5*2**(-hp.quniform('nest_r',1,5,1)),\\\n",
    "                                                     'momentum':hp.uniform('nest_mom',0.6,0.99)}},\\\n",
    "                   {'mtd':adam, 'para':{'learning_rate':2e-5*2**(-hp.quniform('ada_r',1,5,1))}}\n",
    "                  ])\n",
    "        ]"
   ]
  },
  {
   "cell_type": "code",
   "execution_count": 251,
   "metadata": {
    "collapsed": true
   },
   "outputs": [],
   "source": [
    "trials = Trials()"
   ]
  },
  {
   "cell_type": "code",
   "execution_count": 252,
   "metadata": {
    "collapsed": false,
    "scrolled": true
   },
   "outputs": [
    {
     "name": "stderr",
     "output_type": "stream",
     "text": [
      "/home/will/anaconda2/lib/python2.7/site-packages/ipykernel/__main__.py:29: FutureWarning: comparison to `None` will result in an elementwise object comparison in the future.\n"
     ]
    },
    {
     "name": "stdout",
     "output_type": "stream",
     "text": [
      "batch_size:30, n_layer:4,n_filter:400,filter_size:7,connect_layer:<function prelu at 0x7f0974b87e60>,ExpressFun:<function max at 0x7f098522b758>,n_dense:150,              update_method:<function nesterov_momentum at 0x7f0974b8daa0>, update_para:{'learning_rate': 1.25e-06, 'momentum': 0.767103661212862}, accuracy:0.723261365906\n",
      "batch_size:20, n_layer:3,n_filter:300,filter_size:3,connect_layer:<function batch_norm at 0x7f0974b70050>,ExpressFun:<function mean at 0x7f09852498c0>,n_dense:100,              update_method:<function nesterov_momentum at 0x7f0974b8daa0>, update_para:{'learning_rate': 1.25e-06, 'momentum': 0.986151994639652}, accuracy:0.848769829687\n",
      "batch_size:35, n_layer:5,n_filter:200,filter_size:3,connect_layer:<function rrelu at 0x7f0974b8d050>,ExpressFun:<function max at 0x7f098522b758>,n_dense:250,              update_method:<function adam at 0x7f0974b8dc80>, update_para:{'learning_rate': 2.5e-06}, accuracy:0.798788680052\n",
      "batch_size:10, n_layer:2,n_filter:200,filter_size:3,connect_layer:<function batch_norm at 0x7f0974b70050>,ExpressFun:<function mean at 0x7f09852498c0>,n_dense:100,              update_method:<function nesterov_momentum at 0x7f0974b8daa0>, update_para:{'learning_rate': 6.25e-07, 'momentum': 0.6799780281937753}, accuracy:0.791509686975\n",
      "batch_size:15, n_layer:1,n_filter:300,filter_size:9,connect_layer:<function rrelu at 0x7f0974b8d050>,ExpressFun:<function mean at 0x7f09852498c0>,n_dense:200,              update_method:<function adam at 0x7f0974b8dc80>, update_para:{'learning_rate': 2.5e-06}, accuracy:0.834980739984\n",
      "batch_size:30, n_layer:3,n_filter:300,filter_size:5,connect_layer:<function rrelu at 0x7f0974b8d050>,ExpressFun:<function mean at 0x7f09852498c0>,n_dense:150,              update_method:<function nesterov_momentum at 0x7f0974b8daa0>, update_para:{'learning_rate': 6.25e-07, 'momentum': 0.9306679781619407}, accuracy:0.757934595316\n",
      "batch_size:25, n_layer:3,n_filter:300,filter_size:3,connect_layer:<function batch_norm at 0x7f0974b70050>,ExpressFun:<function mean at 0x7f09852498c0>,n_dense:200,              update_method:<function adam at 0x7f0974b8dc80>, update_para:{'learning_rate': 6.25e-07}, accuracy:0.758136860688\n",
      "batch_size:35, n_layer:5,n_filter:200,filter_size:7,connect_layer:<function batch_norm at 0x7f0974b70050>,ExpressFun:<function mean at 0x7f09852498c0>,n_dense:250,              update_method:<function adam at 0x7f0974b8dc80>, update_para:{'learning_rate': 2.5e-06}, accuracy:0.780609919708\n",
      "batch_size:15, n_layer:4,n_filter:200,filter_size:5,connect_layer:<function prelu at 0x7f0974b87e60>,ExpressFun:<function mean at 0x7f09852498c0>,n_dense:200,              update_method:<function adam at 0x7f0974b8dc80>, update_para:{'learning_rate': 5e-06}, accuracy:0.849153557822\n",
      "batch_size:20, n_layer:1,n_filter:300,filter_size:5,connect_layer:<function batch_norm at 0x7f0974b70050>,ExpressFun:<function max at 0x7f098522b758>,n_dense:200,              update_method:<function adam at 0x7f0974b8dc80>, update_para:{'learning_rate': 6.25e-07}, accuracy:0.715280924839\n",
      "batch_size:30, n_layer:2,n_filter:500,filter_size:5,connect_layer:<function batch_norm at 0x7f0974b70050>,ExpressFun:<function mean at 0x7f09852498c0>,n_dense:300,              update_method:<function adam at 0x7f0974b8dc80>, update_para:{'learning_rate': 5e-06}, accuracy:0.828714833989\n",
      "batch_size:35, n_layer:2,n_filter:300,filter_size:3,connect_layer:<function prelu at 0x7f0974b87e60>,ExpressFun:<function mean at 0x7f09852498c0>,n_dense:250,              update_method:<function adam at 0x7f0974b8dc80>, update_para:{'learning_rate': 1.25e-06}, accuracy:0.794787778179\n",
      "batch_size:15, n_layer:1,n_filter:200,filter_size:5,connect_layer:<function batch_norm at 0x7f0974b70050>,ExpressFun:<function mean at 0x7f09852498c0>,n_dense:100,              update_method:<function adam at 0x7f0974b8dc80>, update_para:{'learning_rate': 2.5e-06}, accuracy:0.824072571663\n",
      "batch_size:20, n_layer:5,n_filter:200,filter_size:7,connect_layer:<function batch_norm at 0x7f0974b70050>,ExpressFun:<function mean at 0x7f09852498c0>,n_dense:100,              update_method:<function adam at 0x7f0974b8dc80>, update_para:{'learning_rate': 2.5e-06}, accuracy:0.794731451113\n",
      "batch_size:25, n_layer:3,n_filter:400,filter_size:5,connect_layer:<function prelu at 0x7f0974b87e60>,ExpressFun:<function mean at 0x7f09852498c0>,n_dense:100,              update_method:<function nesterov_momentum at 0x7f0974b8daa0>, update_para:{'learning_rate': 2.5e-06, 'momentum': 0.7123476713239749}, accuracy:0.768015779899\n",
      "batch_size:15, n_layer:3,n_filter:400,filter_size:5,connect_layer:<function prelu at 0x7f0974b87e60>,ExpressFun:<function mean at 0x7f09852498c0>,n_dense:50,              update_method:<function nesterov_momentum at 0x7f0974b8daa0>, update_para:{'learning_rate': 1.25e-06, 'momentum': 0.7109878571061099}, accuracy:0.755765203187\n",
      "batch_size:20, n_layer:3,n_filter:300,filter_size:3,connect_layer:<function rrelu at 0x7f0974b8d050>,ExpressFun:<function mean at 0x7f09852498c0>,n_dense:100,              update_method:<function nesterov_momentum at 0x7f0974b8daa0>, update_para:{'learning_rate': 5e-06, 'momentum': 0.6624144950832955}, accuracy:0.788565877704\n",
      "batch_size:30, n_layer:3,n_filter:300,filter_size:3,connect_layer:<function prelu at 0x7f0974b87e60>,ExpressFun:<function max at 0x7f098522b758>,n_dense:300,              update_method:<function nesterov_momentum at 0x7f0974b8daa0>, update_para:{'learning_rate': 5e-06, 'momentum': 0.9655346319108014}, accuracy:0.833605367457\n",
      "batch_size:30, n_layer:3,n_filter:400,filter_size:7,connect_layer:<function rrelu at 0x7f0974b8d050>,ExpressFun:<function max at 0x7f098522b758>,n_dense:200,              update_method:<function nesterov_momentum at 0x7f0974b8daa0>, update_para:{'learning_rate': 5e-06, 'momentum': 0.708983672162763}, accuracy:0.801201782752\n",
      "batch_size:15, n_layer:3,n_filter:100,filter_size:7,connect_layer:<function prelu at 0x7f0974b87e60>,ExpressFun:<function max at 0x7f098522b758>,n_dense:250,              update_method:<function adam at 0x7f0974b8dc80>, update_para:{'learning_rate': 1.25e-06}, accuracy:0.826920848951\n",
      "batch_size:10, n_layer:4,n_filter:100,filter_size:9,connect_layer:<function prelu at 0x7f0974b87e60>,ExpressFun:<function mean at 0x7f09852498c0>,n_dense:50,              update_method:<function nesterov_momentum at 0x7f0974b8daa0>, update_para:{'learning_rate': 1.25e-06, 'momentum': 0.8906403519193249}, accuracy:0.78136073389\n",
      "batch_size:20, n_layer:4,n_filter:100,filter_size:3,connect_layer:<function prelu at 0x7f0974b87e60>,ExpressFun:<function mean at 0x7f09852498c0>,n_dense:150,              update_method:<function nesterov_momentum at 0x7f0974b8daa0>, update_para:{'learning_rate': 1e-05, 'momentum': 0.85254687866625}, accuracy:0.820790799998\n",
      "batch_size:10, n_layer:4,n_filter:200,filter_size:5,connect_layer:<function batch_norm at 0x7f0974b70050>,ExpressFun:<function mean at 0x7f09852498c0>,n_dense:150,              update_method:<function nesterov_momentum at 0x7f0974b8daa0>, update_para:{'learning_rate': 2.5e-06, 'momentum': 0.8208445107206248}, accuracy:0.845266350211\n",
      "batch_size:15, n_layer:4,n_filter:100,filter_size:3,connect_layer:<function batch_norm at 0x7f0974b70050>,ExpressFun:<function mean at 0x7f09852498c0>,n_dense:150,              update_method:<function adam at 0x7f0974b8dc80>, update_para:{'learning_rate': 1e-05}, accuracy:0.838049364912\n",
      "batch_size:25, n_layer:4,n_filter:200,filter_size:5,connect_layer:<function prelu at 0x7f0974b87e60>,ExpressFun:<function mean at 0x7f09852498c0>,n_dense:50,              update_method:<function adam at 0x7f0974b8dc80>, update_para:{'learning_rate': 1e-05}, accuracy:0.845604952685\n",
      "batch_size:20, n_layer:2,n_filter:500,filter_size:3,connect_layer:<function batch_norm at 0x7f0974b70050>,ExpressFun:<function mean at 0x7f09852498c0>,n_dense:200,              update_method:<function nesterov_momentum at 0x7f0974b8daa0>, update_para:{'learning_rate': 1e-05, 'momentum': 0.9779864498125468}, accuracy:0.859932029874\n",
      "batch_size:10, n_layer:2,n_filter:500,filter_size:9,connect_layer:<function prelu at 0x7f0974b87e60>,ExpressFun:<function mean at 0x7f09852498c0>,n_dense:200,              update_method:<function nesterov_momentum at 0x7f0974b8daa0>, update_para:{'learning_rate': 1e-05, 'momentum': 0.9135562521380226}, accuracy:0.864410031594\n",
      "batch_size:10, n_layer:2,n_filter:500,filter_size:9,connect_layer:<function prelu at 0x7f0974b87e60>,ExpressFun:<function mean at 0x7f09852498c0>,n_dense:250,              update_method:<function nesterov_momentum at 0x7f0974b8daa0>, update_para:{'learning_rate': 1e-05, 'momentum': 0.9230594117969239}, accuracy:0.857937059625\n",
      "batch_size:10, n_layer:2,n_filter:500,filter_size:9,connect_layer:<function batch_norm at 0x7f0974b70050>,ExpressFun:<function max at 0x7f098522b758>,n_dense:300,              update_method:<function nesterov_momentum at 0x7f0974b8daa0>, update_para:{'learning_rate': 1e-05, 'momentum': 0.9844598816519342}, accuracy:0.852378042302\n",
      "batch_size:40, n_layer:1,n_filter:500,filter_size:7,connect_layer:<function prelu at 0x7f0974b87e60>,ExpressFun:<function mean at 0x7f09852498c0>,n_dense:200,              update_method:<function nesterov_momentum at 0x7f0974b8daa0>, update_para:{'learning_rate': 1e-05, 'momentum': 0.8809975106142135}, accuracy:0.795172706464\n",
      "batch_size:25, n_layer:2,n_filter:500,filter_size:9,connect_layer:<function batch_norm at 0x7f0974b70050>,ExpressFun:<function max at 0x7f098522b758>,n_dense:150,              update_method:<function nesterov_momentum at 0x7f0974b8daa0>, update_para:{'learning_rate': 5e-06, 'momentum': 0.9512697350183829}, accuracy:0.808466214002\n",
      "batch_size:20, n_layer:1,n_filter:400,filter_size:7,connect_layer:<function rrelu at 0x7f0974b8d050>,ExpressFun:<function mean at 0x7f09852498c0>,n_dense:250,              update_method:<function nesterov_momentum at 0x7f0974b8daa0>, update_para:{'learning_rate': 1e-05, 'momentum': 0.7700108917383118}, accuracy:0.808334837522\n",
      "batch_size:10, n_layer:2,n_filter:500,filter_size:7,connect_layer:<function prelu at 0x7f0974b87e60>,ExpressFun:<function mean at 0x7f09852498c0>,n_dense:200,              update_method:<function nesterov_momentum at 0x7f0974b8daa0>, update_para:{'learning_rate': 5e-06, 'momentum': 0.61050052594733}, accuracy:0.787763777088\n",
      "batch_size:20, n_layer:2,n_filter:400,filter_size:9,connect_layer:<function batch_norm at 0x7f0974b70050>,ExpressFun:<function max at 0x7f098522b758>,n_dense:250,              update_method:<function nesterov_momentum at 0x7f0974b8daa0>, update_para:{'learning_rate': 1e-05, 'momentum': 0.9010341850236567}, accuracy:0.809787179704\n",
      "batch_size:40, n_layer:1,n_filter:500,filter_size:3,connect_layer:<function rrelu at 0x7f0974b8d050>,ExpressFun:<function mean at 0x7f09852498c0>,n_dense:150,              update_method:<function nesterov_momentum at 0x7f0974b8daa0>, update_para:{'learning_rate': 5e-06, 'momentum': 0.8536117686533738}, accuracy:0.772840305088\n",
      "batch_size:15, n_layer:2,n_filter:400,filter_size:9,connect_layer:<function batch_norm at 0x7f0974b70050>,ExpressFun:<function mean at 0x7f09852498c0>,n_dense:200,              update_method:<function nesterov_momentum at 0x7f0974b8daa0>, update_para:{'learning_rate': 2.5e-06, 'momentum': 0.9883312947692369}, accuracy:0.847939165489\n",
      "batch_size:10, n_layer:1,n_filter:400,filter_size:7,connect_layer:<function rrelu at 0x7f0974b8d050>,ExpressFun:<function mean at 0x7f09852498c0>,n_dense:300,              update_method:<function nesterov_momentum at 0x7f0974b8daa0>, update_para:{'learning_rate': 1e-05, 'momentum': 0.9379629520042879}, accuracy:0.855913925843\n",
      "batch_size:25, n_layer:2,n_filter:500,filter_size:3,connect_layer:<function prelu at 0x7f0974b87e60>,ExpressFun:<function mean at 0x7f09852498c0>,n_dense:200,              update_method:<function nesterov_momentum at 0x7f0974b8daa0>, update_para:{'learning_rate': 5e-06, 'momentum': 0.8262786870982197}, accuracy:0.801517742386\n",
      "batch_size:35, n_layer:1,n_filter:500,filter_size:3,connect_layer:<function batch_norm at 0x7f0974b70050>,ExpressFun:<function max at 0x7f098522b758>,n_dense:250,              update_method:<function nesterov_momentum at 0x7f0974b8daa0>, update_para:{'learning_rate': 1e-05, 'momentum': 0.910991467427603}, accuracy:0.829939067557\n",
      "batch_size:15, n_layer:2,n_filter:400,filter_size:5,connect_layer:<function batch_norm at 0x7f0974b70050>,ExpressFun:<function mean at 0x7f09852498c0>,n_dense:150,              update_method:<function nesterov_momentum at 0x7f0974b8daa0>, update_para:{'learning_rate': 1e-05, 'momentum': 0.8698822564225756}, accuracy:0.855906084859\n",
      "batch_size:20, n_layer:1,n_filter:500,filter_size:7,connect_layer:<function prelu at 0x7f0974b87e60>,ExpressFun:<function mean at 0x7f09852498c0>,n_dense:200,              update_method:<function nesterov_momentum at 0x7f0974b8daa0>, update_para:{'learning_rate': 5e-06, 'momentum': 0.9602360049508335}, accuracy:0.835845808498\n",
      "batch_size:15, n_layer:2,n_filter:400,filter_size:9,connect_layer:<function batch_norm at 0x7f0974b70050>,ExpressFun:<function mean at 0x7f09852498c0>,n_dense:200,              update_method:<function nesterov_momentum at 0x7f0974b8daa0>, update_para:{'learning_rate': 2.5e-06, 'momentum': 0.7958188971550033}, accuracy:0.824439897741\n",
      "batch_size:25, n_layer:1,n_filter:500,filter_size:5,connect_layer:<function rrelu at 0x7f0974b8d050>,ExpressFun:<function mean at 0x7f09852498c0>,n_dense:250,              update_method:<function nesterov_momentum at 0x7f0974b8daa0>, update_para:{'learning_rate': 1e-05, 'momentum': 0.8375028675874194}, accuracy:0.810420219112\n",
      "batch_size:30, n_layer:3,n_filter:500,filter_size:3,connect_layer:<function batch_norm at 0x7f0974b70050>,ExpressFun:<function max at 0x7f098522b758>,n_dense:300,              update_method:<function nesterov_momentum at 0x7f0974b8daa0>, update_para:{'learning_rate': 5e-06, 'momentum': 0.988579820629425}, accuracy:0.828134681214\n",
      "batch_size:20, n_layer:2,n_filter:400,filter_size:5,connect_layer:<function prelu at 0x7f0974b87e60>,ExpressFun:<function mean at 0x7f09852498c0>,n_dense:150,              update_method:<function nesterov_momentum at 0x7f0974b8daa0>, update_para:{'learning_rate': 1.25e-06, 'momentum': 0.797642029758814}, accuracy:0.732601497532\n",
      "batch_size:10, n_layer:5,n_filter:300,filter_size:3,connect_layer:<function batch_norm at 0x7f0974b70050>,ExpressFun:<function mean at 0x7f09852498c0>,n_dense:250,              update_method:<function adam at 0x7f0974b8dc80>, update_para:{'learning_rate': 5e-06}, accuracy:0.838288194871\n",
      "batch_size:35, n_layer:1,n_filter:500,filter_size:7,connect_layer:<function prelu at 0x7f0974b87e60>,ExpressFun:<function mean at 0x7f09852498c0>,n_dense:100,              update_method:<function nesterov_momentum at 0x7f0974b8daa0>, update_para:{'learning_rate': 6.25e-07, 'momentum': 0.7545079747728098}, accuracy:0.697974433913\n",
      "batch_size:15, n_layer:2,n_filter:400,filter_size:5,connect_layer:<function rrelu at 0x7f0974b8d050>,ExpressFun:<function mean at 0x7f09852498c0>,n_dense:200,              update_method:<function nesterov_momentum at 0x7f0974b8daa0>, update_para:{'learning_rate': 2.5e-06, 'momentum': 0.9656189579973367}, accuracy:0.84199361968\n",
      "batch_size:30, n_layer:3,n_filter:400,filter_size:9,connect_layer:<function batch_norm at 0x7f0974b70050>,ExpressFun:<function max at 0x7f098522b758>,n_dense:100,              update_method:<function adam at 0x7f0974b8dc80>, update_para:{'learning_rate': 1.25e-06}, accuracy:0.75673612498\n",
      "batch_size:20, n_layer:3,n_filter:300,filter_size:7,connect_layer:<function prelu at 0x7f0974b87e60>,ExpressFun:<function mean at 0x7f09852498c0>,n_dense:150,              update_method:<function nesterov_momentum at 0x7f0974b8daa0>, update_para:{'learning_rate': 1e-05, 'momentum': 0.9234706689860183}, accuracy:0.848536840461\n",
      "batch_size:15, n_layer:2,n_filter:500,filter_size:3,connect_layer:<function prelu at 0x7f0974b87e60>,ExpressFun:<function mean at 0x7f09852498c0>,n_dense:200,              update_method:<function nesterov_momentum at 0x7f0974b8daa0>, update_para:{'learning_rate': 6.25e-07, 'momentum': 0.6212007468854361}, accuracy:0.603469859259\n",
      "batch_size:25, n_layer:1,n_filter:300,filter_size:5,connect_layer:<function batch_norm at 0x7f0974b70050>,ExpressFun:<function mean at 0x7f09852498c0>,n_dense:300,              update_method:<function adam at 0x7f0974b8dc80>, update_para:{'learning_rate': 1e-05}, accuracy:0.826947092243\n",
      "batch_size:10, n_layer:3,n_filter:200,filter_size:3,connect_layer:<function rrelu at 0x7f0974b8d050>,ExpressFun:<function max at 0x7f098522b758>,n_dense:250,              update_method:<function nesterov_momentum at 0x7f0974b8daa0>, update_para:{'learning_rate': 1.25e-06, 'momentum': 0.9469994928570036}, accuracy:0.841636134837\n",
      "batch_size:35, n_layer:2,n_filter:400,filter_size:9,connect_layer:<function prelu at 0x7f0974b87e60>,ExpressFun:<function mean at 0x7f09852498c0>,n_dense:200,              update_method:<function adam at 0x7f0974b8dc80>, update_para:{'learning_rate': 6.25e-07}, accuracy:0.806382432612\n",
      "batch_size:30, n_layer:1,n_filter:500,filter_size:5,connect_layer:<function batch_norm at 0x7f0974b70050>,ExpressFun:<function mean at 0x7f09852498c0>,n_dense:150,              update_method:<function nesterov_momentum at 0x7f0974b8daa0>, update_para:{'learning_rate': 5e-06, 'momentum': 0.7636368471260754}, accuracy:0.822972353652\n",
      "batch_size:15, n_layer:3,n_filter:300,filter_size:7,connect_layer:<function prelu at 0x7f0974b87e60>,ExpressFun:<function mean at 0x7f09852498c0>,n_dense:200,              update_method:<function nesterov_momentum at 0x7f0974b8daa0>, update_para:{'learning_rate': 5e-06, 'momentum': 0.7346163071100105}, accuracy:0.824167223537\n",
      "batch_size:25, n_layer:2,n_filter:400,filter_size:3,connect_layer:<function batch_norm at 0x7f0974b70050>,ExpressFun:<function max at 0x7f098522b758>,n_dense:100,              update_method:<function adam at 0x7f0974b8dc80>, update_para:{'learning_rate': 5e-06}, accuracy:0.788927923119\n",
      "batch_size:20, n_layer:5,n_filter:500,filter_size:5,connect_layer:<function prelu at 0x7f0974b87e60>,ExpressFun:<function mean at 0x7f09852498c0>,n_dense:250,              update_method:<function nesterov_momentum at 0x7f0974b8daa0>, update_para:{'learning_rate': 1e-05, 'momentum': 0.8733081442855326}, accuracy:0.835669946438\n",
      "batch_size:10, n_layer:3,n_filter:200,filter_size:7,connect_layer:<function rrelu at 0x7f0974b8d050>,ExpressFun:<function mean at 0x7f09852498c0>,n_dense:50,              update_method:<function nesterov_momentum at 0x7f0974b8daa0>, update_para:{'learning_rate': 1.25e-06, 'momentum': 0.6708005695544779}, accuracy:0.771262107119\n",
      "batch_size:20, n_layer:1,n_filter:500,filter_size:9,connect_layer:<function batch_norm at 0x7f0974b70050>,ExpressFun:<function mean at 0x7f09852498c0>,n_dense:300,              update_method:<function nesterov_momentum at 0x7f0974b8daa0>, update_para:{'learning_rate': 2.5e-06, 'momentum': 0.9746076333605531}, accuracy:0.849944377023\n",
      "batch_size:40, n_layer:2,n_filter:100,filter_size:5,connect_layer:<function prelu at 0x7f0974b87e60>,ExpressFun:<function max at 0x7f098522b758>,n_dense:150,              update_method:<function adam at 0x7f0974b8dc80>, update_para:{'learning_rate': 1.25e-06}, accuracy:0.765491223219\n",
      "batch_size:10, n_layer:4,n_filter:400,filter_size:3,connect_layer:<function batch_norm at 0x7f0974b70050>,ExpressFun:<function mean at 0x7f09852498c0>,n_dense:200,              update_method:<function nesterov_momentum at 0x7f0974b8daa0>, update_para:{'learning_rate': 1e-05, 'momentum': 0.6454054305760282}, accuracy:0.844104284441\n",
      "batch_size:15, n_layer:3,n_filter:500,filter_size:7,connect_layer:<function prelu at 0x7f0974b87e60>,ExpressFun:<function mean at 0x7f09852498c0>,n_dense:250,              update_method:<function nesterov_momentum at 0x7f0974b8daa0>, update_para:{'learning_rate': 6.25e-07, 'momentum': 0.9193663948747696}, accuracy:0.768288454104\n",
      "batch_size:20, n_layer:2,n_filter:300,filter_size:9,connect_layer:<function rrelu at 0x7f0974b8d050>,ExpressFun:<function mean at 0x7f09852498c0>,n_dense:150,              update_method:<function nesterov_momentum at 0x7f0974b8daa0>, update_para:{'learning_rate': 5e-06, 'momentum': 0.8876752438413832}, accuracy:0.838621836723\n",
      "batch_size:25, n_layer:1,n_filter:400,filter_size:3,connect_layer:<function batch_norm at 0x7f0974b70050>,ExpressFun:<function max at 0x7f098522b758>,n_dense:200,              update_method:<function adam at 0x7f0974b8dc80>, update_para:{'learning_rate': 1e-05}, accuracy:0.805749073164\n",
      "batch_size:10, n_layer:2,n_filter:500,filter_size:9,connect_layer:<function prelu at 0x7f0974b87e60>,ExpressFun:<function mean at 0x7f09852498c0>,n_dense:250,              update_method:<function nesterov_momentum at 0x7f0974b8daa0>, update_para:{'learning_rate': 1e-05, 'momentum': 0.9358418516823384}, accuracy:0.86007748812\n",
      "batch_size:10, n_layer:2,n_filter:500,filter_size:9,connect_layer:<function prelu at 0x7f0974b87e60>,ExpressFun:<function mean at 0x7f09852498c0>,n_dense:250,              update_method:<function nesterov_momentum at 0x7f0974b8daa0>, update_para:{'learning_rate': 1e-05, 'momentum': 0.9037446402585391}, accuracy:0.858698675162\n",
      "batch_size:10, n_layer:2,n_filter:500,filter_size:9,connect_layer:<function prelu at 0x7f0974b87e60>,ExpressFun:<function mean at 0x7f09852498c0>,n_dense:300,              update_method:<function nesterov_momentum at 0x7f0974b8daa0>, update_para:{'learning_rate': 1e-05, 'momentum': 0.9331093682131035}, accuracy:0.856261009381\n",
      "batch_size:15, n_layer:1,n_filter:500,filter_size:9,connect_layer:<function prelu at 0x7f0974b87e60>,ExpressFun:<function mean at 0x7f09852498c0>,n_dense:250,              update_method:<function nesterov_momentum at 0x7f0974b8daa0>, update_para:{'learning_rate': 1e-05, 'momentum': 0.8610575103300316}, accuracy:0.830155814745\n",
      "batch_size:10, n_layer:2,n_filter:500,filter_size:9,connect_layer:<function prelu at 0x7f0974b87e60>,ExpressFun:<function mean at 0x7f09852498c0>,n_dense:300,              update_method:<function nesterov_momentum at 0x7f0974b8daa0>, update_para:{'learning_rate': 1e-05, 'momentum': 0.9789251659129747}, accuracy:0.868040887049\n",
      "batch_size:10, n_layer:2,n_filter:500,filter_size:9,connect_layer:<function prelu at 0x7f0974b87e60>,ExpressFun:<function mean at 0x7f09852498c0>,n_dense:300,              update_method:<function nesterov_momentum at 0x7f0974b8daa0>, update_para:{'learning_rate': 1e-05, 'momentum': 0.9514280953073962}, accuracy:0.859553102341\n",
      "batch_size:10, n_layer:2,n_filter:500,filter_size:9,connect_layer:<function prelu at 0x7f0974b87e60>,ExpressFun:<function mean at 0x7f09852498c0>,n_dense:300,              update_method:<function nesterov_momentum at 0x7f0974b8daa0>, update_para:{'learning_rate': 5e-06, 'momentum': 0.8117617207936088}, accuracy:0.844345274671\n",
      "batch_size:10, n_layer:3,n_filter:500,filter_size:9,connect_layer:<function prelu at 0x7f0974b87e60>,ExpressFun:<function mean at 0x7f09852498c0>,n_dense:300,              update_method:<function nesterov_momentum at 0x7f0974b8daa0>, update_para:{'learning_rate': 5e-06, 'momentum': 0.8433552631509221}, accuracy:0.850849770595\n",
      "batch_size:15, n_layer:1,n_filter:400,filter_size:9,connect_layer:<function prelu at 0x7f0974b87e60>,ExpressFun:<function mean at 0x7f09852498c0>,n_dense:300,              update_method:<function nesterov_momentum at 0x7f0974b8daa0>, update_para:{'learning_rate': 1e-05, 'momentum': 0.8918565327983448}, accuracy:0.829460287498\n",
      "batch_size:15, n_layer:3,n_filter:500,filter_size:9,connect_layer:<function prelu at 0x7f0974b87e60>,ExpressFun:<function mean at 0x7f09852498c0>,n_dense:250,              update_method:<function nesterov_momentum at 0x7f0974b8daa0>, update_para:{'learning_rate': 1e-05, 'momentum': 0.9679328998175418}, accuracy:0.852460372629\n",
      "batch_size:10, n_layer:2,n_filter:400,filter_size:9,connect_layer:<function prelu at 0x7f0974b87e60>,ExpressFun:<function mean at 0x7f09852498c0>,n_dense:300,              update_method:<function nesterov_momentum at 0x7f0974b8daa0>, update_para:{'learning_rate': 1e-05, 'momentum': 0.9477976290111493}, accuracy:0.855540278973\n",
      "batch_size:10, n_layer:1,n_filter:500,filter_size:7,connect_layer:<function prelu at 0x7f0974b87e60>,ExpressFun:<function mean at 0x7f09852498c0>,n_dense:250,              update_method:<function nesterov_momentum at 0x7f0974b8daa0>, update_para:{'learning_rate': 5e-06, 'momentum': 0.9130729661110516}, accuracy:0.846538509791\n",
      "batch_size:15, n_layer:2,n_filter:500,filter_size:9,connect_layer:<function prelu at 0x7f0974b87e60>,ExpressFun:<function mean at 0x7f09852498c0>,n_dense:250,              update_method:<function nesterov_momentum at 0x7f0974b8daa0>, update_para:{'learning_rate': 1e-05, 'momentum': 0.6920619826411033}, accuracy:0.826491355076\n",
      "batch_size:10, n_layer:2,n_filter:400,filter_size:9,connect_layer:<function prelu at 0x7f0974b87e60>,ExpressFun:<function mean at 0x7f09852498c0>,n_dense:300,              update_method:<function nesterov_momentum at 0x7f0974b8daa0>, update_para:{'learning_rate': 5e-06, 'momentum': 0.9885198998254161}, accuracy:0.862152948466\n",
      "batch_size:15, n_layer:1,n_filter:400,filter_size:7,connect_layer:<function prelu at 0x7f0974b87e60>,ExpressFun:<function mean at 0x7f09852498c0>,n_dense:300,              update_method:<function nesterov_momentum at 0x7f0974b8daa0>, update_para:{'learning_rate': 5e-06, 'momentum': 0.9875826079563722}, accuracy:0.847351571781\n",
      "batch_size:10, n_layer:2,n_filter:400,filter_size:7,connect_layer:<function prelu at 0x7f0974b87e60>,ExpressFun:<function max at 0x7f098522b758>,n_dense:300,              update_method:<function nesterov_momentum at 0x7f0974b8daa0>, update_para:{'learning_rate': 2.5e-06, 'momentum': 0.9745679184958569}, accuracy:0.871770634908\n",
      "batch_size:10, n_layer:3,n_filter:400,filter_size:7,connect_layer:<function prelu at 0x7f0974b87e60>,ExpressFun:<function max at 0x7f098522b758>,n_dense:300,              update_method:<function adam at 0x7f0974b8dc80>, update_para:{'learning_rate': 6.25e-07}, accuracy:0.857329703438\n",
      "batch_size:15, n_layer:1,n_filter:300,filter_size:7,connect_layer:<function prelu at 0x7f0974b87e60>,ExpressFun:<function max at 0x7f098522b758>,n_dense:50,              update_method:<function nesterov_momentum at 0x7f0974b8daa0>, update_para:{'learning_rate': 2.5e-06, 'momentum': 0.897643319393113}, accuracy:0.827500761696\n",
      "batch_size:10, n_layer:3,n_filter:400,filter_size:7,connect_layer:<function prelu at 0x7f0974b87e60>,ExpressFun:<function max at 0x7f098522b758>,n_dense:100,              update_method:<function nesterov_momentum at 0x7f0974b8daa0>, update_para:{'learning_rate': 2.5e-06, 'momentum': 0.957255563766429}, accuracy:0.866417163369\n",
      "batch_size:15, n_layer:4,n_filter:300,filter_size:7,connect_layer:<function prelu at 0x7f0974b87e60>,ExpressFun:<function max at 0x7f098522b758>,n_dense:100,              update_method:<function nesterov_momentum at 0x7f0974b8daa0>, update_para:{'learning_rate': 2.5e-06, 'momentum': 0.9608094956538177}, accuracy:0.861335245893\n",
      "batch_size:10, n_layer:4,n_filter:300,filter_size:7,connect_layer:<function prelu at 0x7f0974b87e60>,ExpressFun:<function max at 0x7f098522b758>,n_dense:100,              update_method:<function nesterov_momentum at 0x7f0974b8daa0>, update_para:{'learning_rate': 2.5e-06, 'momentum': 0.9805228312754163}, accuracy:0.863150833641\n",
      "batch_size:10, n_layer:3,n_filter:200,filter_size:7,connect_layer:<function rrelu at 0x7f0974b8d050>,ExpressFun:<function max at 0x7f098522b758>,n_dense:50,              update_method:<function adam at 0x7f0974b8dc80>, update_para:{'learning_rate': 5e-06}, accuracy:0.866657993579\n",
      "batch_size:15, n_layer:4,n_filter:200,filter_size:7,connect_layer:<function rrelu at 0x7f0974b8d050>,ExpressFun:<function max at 0x7f098522b758>,n_dense:300,              update_method:<function adam at 0x7f0974b8dc80>, update_para:{'learning_rate': 5e-06}, accuracy:0.850898096657\n",
      "batch_size:20, n_layer:3,n_filter:100,filter_size:7,connect_layer:<function rrelu at 0x7f0974b8d050>,ExpressFun:<function max at 0x7f098522b758>,n_dense:50,              update_method:<function adam at 0x7f0974b8dc80>, update_para:{'learning_rate': 1e-05}, accuracy:0.848713662642\n",
      "batch_size:15, n_layer:3,n_filter:200,filter_size:5,connect_layer:<function rrelu at 0x7f0974b8d050>,ExpressFun:<function max at 0x7f098522b758>,n_dense:50,              update_method:<function adam at 0x7f0974b8dc80>, update_para:{'learning_rate': 5e-06}, accuracy:0.865028829216\n",
      "batch_size:10, n_layer:4,n_filter:100,filter_size:7,connect_layer:<function rrelu at 0x7f0974b8d050>,ExpressFun:<function max at 0x7f098522b758>,n_dense:50,              update_method:<function adam at 0x7f0974b8dc80>, update_para:{'learning_rate': 1.25e-06}, accuracy:0.842425513856\n",
      "batch_size:15, n_layer:3,n_filter:200,filter_size:7,connect_layer:<function rrelu at 0x7f0974b8d050>,ExpressFun:<function max at 0x7f098522b758>,n_dense:300,              update_method:<function adam at 0x7f0974b8dc80>, update_para:{'learning_rate': 5e-06}, accuracy:0.864625418613\n",
      "batch_size:10, n_layer:3,n_filter:100,filter_size:5,connect_layer:<function rrelu at 0x7f0974b8d050>,ExpressFun:<function max at 0x7f098522b758>,n_dense:50,              update_method:<function adam at 0x7f0974b8dc80>, update_para:{'learning_rate': 1e-05}, accuracy:0.876763821254\n",
      "batch_size:20, n_layer:3,n_filter:100,filter_size:5,connect_layer:<function rrelu at 0x7f0974b8d050>,ExpressFun:<function max at 0x7f098522b758>,n_dense:300,              update_method:<function adam at 0x7f0974b8dc80>, update_para:{'learning_rate': 1e-05}, accuracy:0.860685564397\n",
      "batch_size:35, n_layer:5,n_filter:300,filter_size:5,connect_layer:<function rrelu at 0x7f0974b8d050>,ExpressFun:<function max at 0x7f098522b758>,n_dense:100,              update_method:<function adam at 0x7f0974b8dc80>, update_para:{'learning_rate': 1e-05}, accuracy:0.830551304356\n",
      "batch_size:10, n_layer:4,n_filter:100,filter_size:5,connect_layer:<function rrelu at 0x7f0974b8d050>,ExpressFun:<function max at 0x7f098522b758>,n_dense:250,              update_method:<function adam at 0x7f0974b8dc80>, update_para:{'learning_rate': 2.5e-06}, accuracy:0.857162722492\n",
      "batch_size:15, n_layer:2,n_filter:300,filter_size:5,connect_layer:<function rrelu at 0x7f0974b8d050>,ExpressFun:<function max at 0x7f098522b758>,n_dense:150,              update_method:<function adam at 0x7f0974b8dc80>, update_para:{'learning_rate': 2.5e-06}, accuracy:0.842933257548\n",
      "batch_size:30, n_layer:3,n_filter:400,filter_size:5,connect_layer:<function rrelu at 0x7f0974b8d050>,ExpressFun:<function max at 0x7f098522b758>,n_dense:300,              update_method:<function adam at 0x7f0974b8dc80>, update_para:{'learning_rate': 2.5e-06}, accuracy:0.827797118871\n",
      "batch_size:10, n_layer:2,n_filter:200,filter_size:5,connect_layer:<function rrelu at 0x7f0974b8d050>,ExpressFun:<function max at 0x7f098522b758>,n_dense:50,              update_method:<function adam at 0x7f0974b8dc80>, update_para:{'learning_rate': 1e-05}, accuracy:0.87875167061\n",
      "batch_size:40, n_layer:3,n_filter:100,filter_size:5,connect_layer:<function rrelu at 0x7f0974b8d050>,ExpressFun:<function max at 0x7f098522b758>,n_dense:50,              update_method:<function adam at 0x7f0974b8dc80>, update_para:{'learning_rate': 1e-05}, accuracy:0.818551479098\n"
     ]
    }
   ],
   "source": [
    "best = fmin(hyperPara, space, algo=tpe.suggest, trials=trials, max_evals=100)"
   ]
  },
  {
   "cell_type": "code",
   "execution_count": 254,
   "metadata": {
    "collapsed": false
   },
   "outputs": [
    {
     "data": {
      "text/plain": [
       "{'ExpressFun': 0,\n",
       " 'ada_r': 1.0,\n",
       " 'batch_size': 10.0,\n",
       " 'connect_layer': 0,\n",
       " 'filter_size': 6.0,\n",
       " 'n_dense': 50.0,\n",
       " 'n_filter': 200.0,\n",
       " 'n_layer': 2.0,\n",
       " 'update_method': 1}"
      ]
     },
     "execution_count": 254,
     "metadata": {},
     "output_type": "execute_result"
    }
   ],
   "source": [
    "best"
   ]
  },
  {
   "cell_type": "code",
   "execution_count": null,
   "metadata": {
    "collapsed": true
   },
   "outputs": [],
   "source": []
  },
  {
   "cell_type": "code",
   "execution_count": null,
   "metadata": {
    "collapsed": true
   },
   "outputs": [],
   "source": []
  },
  {
   "cell_type": "markdown",
   "metadata": {},
   "source": [
    "<a id='model1'></a>\n",
    "1. Model1 - Conv layer over word2vec from google, with optimized hyperpara from hyperopt over whole dataset"
   ]
  },
  {
   "cell_type": "code",
   "execution_count": 27,
   "metadata": {
    "collapsed": true
   },
   "outputs": [],
   "source": [
    "X_tt = tt.tensor3()\n",
    "y_tt = tt.matrix()\n",
    "learning_rate_tt = tt.scalar()\n",
    "m_tt = tt.scalar()"
   ]
  },
  {
   "cell_type": "code",
   "execution_count": 28,
   "metadata": {
    "collapsed": false,
    "scrolled": false
   },
   "outputs": [],
   "source": [
    "net = InputLayer(shape=(10,300,None),input_var=X_tt)\n",
    "net = rrelu(Conv1DLayer(net,200,5,pad='same'))\n",
    "net = rrelu(Conv1DLayer(net,200,5,pad='same'))\n",
    "net = ExpressionLayer(net, lambda X: tt.max(X,2),output_shape=(10,200))\n",
    "#net = rrelu(ExpressionLayer(net, lambda X: tt.mean(X,2),output_shape=(10,200)))\n",
    "#net = rrelu(DenseLayer(net, num_units=100))\n",
    "net = rrelu(DenseLayer(net, num_units=50))\n",
    "net = DenseLayer(net, num_units=2,nonlinearity=tt.nnet.softmax)"
   ]
  },
  {
   "cell_type": "code",
   "execution_count": 29,
   "metadata": {
    "collapsed": false
   },
   "outputs": [],
   "source": [
    "Y_hat = layers.get_output(net)"
   ]
  },
  {
   "cell_type": "code",
   "execution_count": 30,
   "metadata": {
    "collapsed": true
   },
   "outputs": [],
   "source": [
    "cost = -tt.sum(tt.log(Y_hat)*y_tt)"
   ]
  },
  {
   "cell_type": "code",
   "execution_count": 31,
   "metadata": {
    "collapsed": false
   },
   "outputs": [],
   "source": [
    "err = tt.sum(tt.eq(tt.argmax(Y_hat,1),tt.argmax(y_tt,1)))"
   ]
  },
  {
   "cell_type": "code",
   "execution_count": 32,
   "metadata": {
    "collapsed": false
   },
   "outputs": [],
   "source": [
    "params = lasagne.layers.get_all_params(net, trainable=True)\n",
    "updates = adam(cost, params, learning_rate=learning_rate_tt)"
   ]
  },
  {
   "cell_type": "code",
   "execution_count": 33,
   "metadata": {
    "collapsed": true
   },
   "outputs": [],
   "source": [
    "train_fn = theano.function([X_tt, y_tt,learning_rate_tt], updates=updates)"
   ]
  },
  {
   "cell_type": "code",
   "execution_count": 34,
   "metadata": {
    "collapsed": true
   },
   "outputs": [],
   "source": [
    "predict  = theano.function([X_tt],Y_hat)"
   ]
  },
  {
   "cell_type": "code",
   "execution_count": 35,
   "metadata": {
    "collapsed": true
   },
   "outputs": [],
   "source": [
    "loss = theano.function([X_tt, y_tt], err)"
   ]
  },
  {
   "cell_type": "code",
   "execution_count": null,
   "metadata": {
    "collapsed": true
   },
   "outputs": [],
   "source": []
  },
  {
   "cell_type": "markdown",
   "metadata": {},
   "source": [
    "Whole dataset refit - final model"
   ]
  },
  {
   "cell_type": "code",
   "execution_count": 36,
   "metadata": {
    "collapsed": false
   },
   "outputs": [
    {
     "name": "stderr",
     "output_type": "stream",
     "text": [
      "/home/will/anaconda2/lib/python2.7/site-packages/ipykernel/__main__.py:29: FutureWarning: comparison to `None` will result in an elementwise object comparison in the future.\n"
     ]
    }
   ],
   "source": [
    "n_batch = 20\n",
    "\n",
    "for i in range(n_batch):\n",
    "    \n",
    "    for x_bat,y_bat in batch_iterator(X_str, y_np, model, 10, shuffle=True, sublen=1.0):\n",
    "        train_fn(x_bat,y_bat,1e-5)"
   ]
  },
  {
   "cell_type": "code",
   "execution_count": null,
   "metadata": {
    "collapsed": true
   },
   "outputs": [],
   "source": []
  },
  {
   "cell_type": "markdown",
   "metadata": {
    "collapsed": false
   },
   "source": [
    "n_batch = 10\n",
    "best_err = .0\n",
    "yhat = np.zeros((len(X_val),2))\n",
    "\n",
    "for i in range(n_batch):\n",
    "    \n",
    "    for x_bat,y_bat in batch_iterator(X_train, y_train, model, 10, shuffle=True, sublen=1.0):\n",
    "        train_fn(x_bat,y_bat,1e-5)\n",
    "    \n",
    "    for x_bat,batch in batch_iterator(X_val, None, model, 10, shuffle=False, sublen=1.0):\n",
    "        yhat[batch]=predict(x_bat)\n",
    "\n",
    "    err = roc_auc_score(np.argmax(y_val,1),yhat[:,1])\n",
    "    if err > best_err:\n",
    "        best_err = err\n",
    "        best_para = layers.get_all_param_values(net)\n",
    "    \n",
    "    print 'epoch:{}, accuracy:{}'.format(i,err)"
   ]
  },
  {
   "cell_type": "markdown",
   "metadata": {
    "collapsed": true
   },
   "source": [
    "layers.set_all_param_values(net,best_para)"
   ]
  },
  {
   "cell_type": "code",
   "execution_count": null,
   "metadata": {
    "collapsed": true
   },
   "outputs": [],
   "source": []
  },
  {
   "cell_type": "code",
   "execution_count": null,
   "metadata": {
    "collapsed": true
   },
   "outputs": [],
   "source": []
  },
  {
   "cell_type": "code",
   "execution_count": null,
   "metadata": {
    "collapsed": true
   },
   "outputs": [],
   "source": []
  },
  {
   "cell_type": "code",
   "execution_count": 88,
   "metadata": {
    "collapsed": true
   },
   "outputs": [],
   "source": [
    "def create_fun_RNN(n_layer,n_batch,n_unit,cell1,cell2,cell3,nonlin1,connect1,fun1,fun2,n_dense,\\\n",
    "               update_dic):\n",
    "    \n",
    "    update_method = update_dic['mtd']\n",
    "    update_para = update_dic['para']\n",
    "    \n",
    "    X_tt = tt.tensor3()\n",
    "    y_tt = tt.matrix()\n",
    "    \n",
    "    net = InputLayer(shape=(n_batch,None,300),input_var=X_tt)\n",
    "\n",
    "    for _ in range(n_layer):\n",
    "        net_fw = GRULayer(net,n_unit,grad_clipping=100.,\\\n",
    "                            resetgate=Gate(W_cell=cell1),\\\n",
    "                            updategate=Gate(W_cell=cell2),\\\n",
    "                            hidden_update=Gate(W_cell=cell3, nonlinearity=nonlin1))\n",
    "        net_bw = GRULayer(net,n_unit,grad_clipping=100.,backwards=True,\\\n",
    "                            resetgate=Gate(W_cell=cell1),\\\n",
    "                            updategate=Gate(W_cell=cell2),\\\n",
    "                            hidden_update=Gate(W_cell=cell3, nonlinearity=nonlin1))\n",
    "        \n",
    "        if connect1 == batch_norm:\n",
    "            net = connect1(ElemwiseMergeLayer([net_fw,net_bw],merge_function=fun1),axes=(0,1))\n",
    "        elif connect1 == \"identity\":\n",
    "            net = ElemwiseMergeLayer([net_fw,net_bw],merge_function=fun1)\n",
    "        else:\n",
    "            net = connect1(ElemwiseMergeLayer([net_fw,net_bw],merge_function=fun1),shared_axes=(0,1))\n",
    "    \n",
    "            \n",
    "    if connect1 == batch_norm:\n",
    "        net = connect1(ExpressionLayer(net, lambda X: fun2(X,1),output_shape=(n_batch,n_unit)),axes=(0,1))\n",
    "    elif connect1 == \"identity\":\n",
    "        net = ExpressionLayer(net, lambda X: fun2(X,1),output_shape=(n_batch,n_unit))\n",
    "    else:\n",
    "        net = connect1(ExpressionLayer(net, lambda X: fun2(X,1),output_shape=(n_batch,n_unit)),shared_axes=(0,1))\n",
    "        \n",
    "        \n",
    "    if connect1 == \"identity\":\n",
    "        net = DenseLayer(net, num_units=n_dense)\n",
    "    else:\n",
    "        net = connect1(DenseLayer(net, num_units=n_dense))\n",
    "        \n",
    "    net = DenseLayer(net, num_units=2,nonlinearity=tt.nnet.softmax)\n",
    "    \n",
    "    Y_hat = layers.get_output(net)\n",
    "    Y_hat_test = layers.get_output(net,deterministic=True)\n",
    "    \n",
    "    cost = -tt.sum(tt.log(Y_hat)*y_tt)\n",
    "    params = lasagne.layers.get_all_params(net, trainable=True)\n",
    "    updates = update_method(cost, params, **update_para)\n",
    "    train_fn = theano.function([X_tt, y_tt], updates=updates)\n",
    "    predict  = theano.function([X_tt],Y_hat_test)\n",
    "    \n",
    "    return train_fn, predict "
   ]
  },
  {
   "cell_type": "code",
   "execution_count": 89,
   "metadata": {
    "collapsed": true
   },
   "outputs": [],
   "source": [
    "def hyperPara_RNN(params):\n",
    "    \n",
    "    n_layer=int(params[0])\n",
    "    batch_size=int(params[1])\n",
    "    n_unit=int(params[2])\n",
    "    cell1=params[3]\n",
    "    cell2=params[4]\n",
    "    cell3=params[5]\n",
    "    nonlin1=params[6]\n",
    "    connect1=params[7]\n",
    "    fun1=params[8]\n",
    "    fun2=params[9]\n",
    "    n_dense=int(params[10])\n",
    "    update_dic=params[11]\n",
    "\n",
    "\n",
    "    n_batch = 30\n",
    "    best_score = .0\n",
    "    counter = 0\n",
    "    yhat = np.zeros((len(X_val),2))\n",
    "    \n",
    "    train_fn, predict = create_fun_RNN(n_layer,batch_size,n_unit,cell1,cell2,cell3,nonlin1,connect1,\\\n",
    "                                       fun1,fun2,n_dense,update_dic)\n",
    "    \n",
    "    for i in range(n_batch):\n",
    "\n",
    "        for x_bat,y_bat in batch_iterator_rnn(X_train, y_train, model, batch_size, shuffle=True, sublen=1.0):\n",
    "            train_fn(x_bat,y_bat)\n",
    "\n",
    "        for x_bat,batch in batch_iterator_rnn(X_val, None, model, batch_size, shuffle=False, sublen=1.0):\n",
    "            yhat[batch]=predict(x_bat)\n",
    "\n",
    "        score_ = roc_auc_score(np.argmax(y_val,1),yhat[:,1])\n",
    "        \n",
    "        if score_ > best_score:\n",
    "            best_score = score_\n",
    "            counter = 0\n",
    "        else:\n",
    "            counter+=1\n",
    "            if counter > 2 and i > 10: # early stop\n",
    "                break \n",
    "        \n",
    "        \n",
    "    print 'batch_size:{}, n_layer:{},n_unit:{},cell1:{},cell2:{},cell3:{},\\\n",
    "           nonlin1:{},connect1:{},n_dense:{},fun1:{},fun2:{},\\\n",
    "              update_method:{}, update_para:{},  ### Accuracy:{} ###'\\\n",
    "    .format(batch_size, n_layer,n_unit,cell1,cell2,cell3,nonlin1,connect1,n_dense,fun1,fun2,\\\n",
    "              update_dic['mtd'], update_dic['para'],best_score)    \n",
    "    \n",
    "    return -best_score   "
   ]
  },
  {
   "cell_type": "code",
   "execution_count": 90,
   "metadata": {
    "collapsed": true
   },
   "outputs": [],
   "source": [
    "space =[hp.quniform('n_layer',1,2,1),\\\n",
    "        hp.quniform('batch_size',10,40,5),\\\n",
    "        hp.quniform('n_unit',100,500,100),\\\n",
    "        hp.choice('cell1',[True, False]),\\\n",
    "        hp.choice('cell2',[True, False]),\\\n",
    "        hp.choice('cell3',[True, False]),\\\n",
    "        hp.choice('nonlin1',[very_leaky_rectify,tanh]),\\\n",
    "        hp.choice('connect1',[rrelu,prelu,batch_norm,\"identity\"]),\\\n",
    "        hp.choice('fun1',[tt.add, tt.maximum]),\\\n",
    "        hp.choice('fun2',[tt.sum, tt.max]),\\\n",
    "        hp.quniform('n_dense',50,300,50),\\\n",
    "        hp.choice('update_method',\\\n",
    "                  [{'mtd':nesterov_momentum, 'para':{'learning_rate':4e-5*2**(-hp.quniform('nest_r',1,5,1)),\\\n",
    "                                                     'momentum':hp.uniform('nest_mom',0.7,0.99)}},\\\n",
    "                   {'mtd':adam, 'para':{'learning_rate':4e-5*2**(-hp.quniform('ada_r',1,5,1))}}\n",
    "                  ])\n",
    "        ]  "
   ]
  },
  {
   "cell_type": "code",
   "execution_count": 91,
   "metadata": {
    "collapsed": true
   },
   "outputs": [],
   "source": [
    "trials = Trials()"
   ]
  },
  {
   "cell_type": "code",
   "execution_count": 92,
   "metadata": {
    "collapsed": false
   },
   "outputs": [
    {
     "name": "stderr",
     "output_type": "stream",
     "text": [
      "/home/will/anaconda2/lib/python2.7/site-packages/ipykernel/__main__.py:32: FutureWarning: comparison to `None` will result in an elementwise object comparison in the future.\n"
     ]
    },
    {
     "name": "stdout",
     "output_type": "stream",
     "text": [
      "batch_size:20, n_layer:2,n_unit:300,cell1:False,cell2:True,cell3:False,           nonlin1:<function tanh at 0x7f8c9e28a398>,connect1:<function rrelu at 0x7f8c9bd11668>,n_dense:150,fun1:Elemwise{maximum,no_inplace},fun2:<function sum at 0x7f8cb7718758>,              update_method:<function nesterov_momentum at 0x7f8c9bd15140>, update_para:{'learning_rate': 1e-05, 'momentum': 0.7657869215336188},  ### Accuracy:0.819153634632 ###\n",
      "batch_size:35, n_layer:1,n_unit:300,cell1:True,cell2:False,cell3:False,           nonlin1:<lasagne.nonlinearities.LeakyRectify object at 0x7f8c9e285d90>,connect1:<function rrelu at 0x7f8c9bd11668>,n_dense:100,fun1:Elemwise{add,no_inplace},fun2:<function max at 0x7f8cb76fb6e0>,              update_method:<function nesterov_momentum at 0x7f8c9bd15140>, update_para:{'learning_rate': 2.5e-06, 'momentum': 0.8659709256231347},  ### Accuracy:0.75831736333 ###\n",
      "batch_size:20, n_layer:2,n_unit:100,cell1:False,cell2:True,cell3:False,           nonlin1:<function tanh at 0x7f8c9e28a398>,connect1:identity,n_dense:100,fun1:Elemwise{add,no_inplace},fun2:<function sum at 0x7f8cb7718758>,              update_method:<function adam at 0x7f8c9bd15320>, update_para:{'learning_rate': 5e-06},  ### Accuracy:0.833469910466 ###\n",
      "batch_size:25, n_layer:2,n_unit:100,cell1:True,cell2:False,cell3:True,           nonlin1:<function tanh at 0x7f8c9e28a398>,connect1:identity,n_dense:150,fun1:Elemwise{add,no_inplace},fun2:<function sum at 0x7f8cb7718758>,              update_method:<function nesterov_momentum at 0x7f8c9bd15140>, update_para:{'learning_rate': 1e-05, 'momentum': 0.7253478294532612},  ### Accuracy:0.814404558908 ###\n",
      "batch_size:30, n_layer:1,n_unit:100,cell1:False,cell2:False,cell3:False,           nonlin1:<lasagne.nonlinearities.LeakyRectify object at 0x7f8c9e285d90>,connect1:identity,n_dense:250,fun1:Elemwise{add,no_inplace},fun2:<function max at 0x7f8cb76fb6e0>,              update_method:<function adam at 0x7f8c9bd15320>, update_para:{'learning_rate': 2.5e-06},  ### Accuracy:0.78449728734 ###\n",
      "batch_size:15, n_layer:1,n_unit:100,cell1:True,cell2:False,cell3:False,           nonlin1:<function tanh at 0x7f8c9e28a398>,connect1:identity,n_dense:200,fun1:Elemwise{add,no_inplace},fun2:<function sum at 0x7f8cb7718758>,              update_method:<function nesterov_momentum at 0x7f8c9bd15140>, update_para:{'learning_rate': 1e-05, 'momentum': 0.7381084586703112},  ### Accuracy:0.836480288087 ###\n",
      "batch_size:15, n_layer:2,n_unit:200,cell1:False,cell2:False,cell3:True,           nonlin1:<function tanh at 0x7f8c9e28a398>,connect1:<function batch_norm at 0x7f8c9bcf4668>,n_dense:50,fun1:Elemwise{add,no_inplace},fun2:<function max at 0x7f8cb76fb6e0>,              update_method:<function adam at 0x7f8c9bd15320>, update_para:{'learning_rate': 2e-05},  ### Accuracy:0.824121617816 ###\n",
      "batch_size:15, n_layer:2,n_unit:200,cell1:False,cell2:True,cell3:True,           nonlin1:<function tanh at 0x7f8c9e28a398>,connect1:<function batch_norm at 0x7f8c9bcf4668>,n_dense:100,fun1:Elemwise{maximum,no_inplace},fun2:<function max at 0x7f8cb76fb6e0>,              update_method:<function adam at 0x7f8c9bd15320>, update_para:{'learning_rate': 1.25e-06},  ### Accuracy:0.719084441952 ###\n",
      "batch_size:20, n_layer:1,n_unit:500,cell1:True,cell2:True,cell3:False,           nonlin1:<lasagne.nonlinearities.LeakyRectify object at 0x7f8c9e285d90>,connect1:<function rrelu at 0x7f8c9bd11668>,n_dense:200,fun1:Elemwise{maximum,no_inplace},fun2:<function max at 0x7f8cb76fb6e0>,              update_method:<function adam at 0x7f8c9bd15320>, update_para:{'learning_rate': 5e-06},  ### Accuracy:0.848240483286 ###\n",
      "batch_size:20, n_layer:2,n_unit:300,cell1:True,cell2:True,cell3:True,           nonlin1:<lasagne.nonlinearities.LeakyRectify object at 0x7f8c9e285d90>,connect1:<function batch_norm at 0x7f8c9bcf4668>,n_dense:250,fun1:Elemwise{add,no_inplace},fun2:<function sum at 0x7f8cb7718758>,              update_method:<function adam at 0x7f8c9bd15320>, update_para:{'learning_rate': 2.5e-06},  ### Accuracy:0.776570853048 ###\n",
      "batch_size:20, n_layer:1,n_unit:200,cell1:False,cell2:False,cell3:False,           nonlin1:<lasagne.nonlinearities.LeakyRectify object at 0x7f8c9e285d90>,connect1:<function batch_norm at 0x7f8c9bcf4668>,n_dense:100,fun1:Elemwise{add,no_inplace},fun2:<function max at 0x7f8cb76fb6e0>,              update_method:<function adam at 0x7f8c9bd15320>, update_para:{'learning_rate': 5e-06},  ### Accuracy:0.800152291103 ###\n",
      "batch_size:30, n_layer:2,n_unit:300,cell1:True,cell2:False,cell3:True,           nonlin1:<lasagne.nonlinearities.LeakyRectify object at 0x7f8c9e285d90>,connect1:identity,n_dense:250,fun1:Elemwise{maximum,no_inplace},fun2:<function max at 0x7f8cb76fb6e0>,              update_method:<function adam at 0x7f8c9bd15320>, update_para:{'learning_rate': 2e-05},  ### Accuracy:0.844114525726 ###\n",
      "batch_size:40, n_layer:1,n_unit:200,cell1:False,cell2:True,cell3:True,           nonlin1:<function tanh at 0x7f8c9e28a398>,connect1:<function batch_norm at 0x7f8c9bcf4668>,n_dense:250,fun1:Elemwise{add,no_inplace},fun2:<function max at 0x7f8cb76fb6e0>,              update_method:<function adam at 0x7f8c9bd15320>, update_para:{'learning_rate': 2e-05},  ### Accuracy:0.806319864764 ###\n",
      "batch_size:25, n_layer:1,n_unit:200,cell1:True,cell2:False,cell3:True,           nonlin1:<function tanh at 0x7f8c9e28a398>,connect1:identity,n_dense:100,fun1:Elemwise{maximum,no_inplace},fun2:<function sum at 0x7f8cb7718758>,              update_method:<function adam at 0x7f8c9bd15320>, update_para:{'learning_rate': 2.5e-06},  ### Accuracy:0.809923676826 ###\n",
      "batch_size:20, n_layer:1,n_unit:400,cell1:False,cell2:False,cell3:False,           nonlin1:<lasagne.nonlinearities.LeakyRectify object at 0x7f8c9e285d90>,connect1:<function prelu at 0x7f8c9bd11500>,n_dense:200,fun1:Elemwise{maximum,no_inplace},fun2:<function max at 0x7f8cb76fb6e0>,              update_method:<function nesterov_momentum at 0x7f8c9bd15140>, update_para:{'learning_rate': 2e-05, 'momentum': 0.9016575806015287},  ### Accuracy:0.854119220715 ###\n",
      "batch_size:25, n_layer:2,n_unit:500,cell1:False,cell2:False,cell3:True,           nonlin1:<function tanh at 0x7f8c9e28a398>,connect1:identity,n_dense:50,fun1:Elemwise{maximum,no_inplace},fun2:<function max at 0x7f8cb76fb6e0>,              update_method:<function nesterov_momentum at 0x7f8c9bd15140>, update_para:{'learning_rate': 2.5e-06, 'momentum': 0.793967983045724},  ### Accuracy:0.79529448174 ###\n",
      "batch_size:15, n_layer:1,n_unit:500,cell1:False,cell2:False,cell3:False,           nonlin1:<lasagne.nonlinearities.LeakyRectify object at 0x7f8c9e285d90>,connect1:<function rrelu at 0x7f8c9bd11668>,n_dense:100,fun1:Elemwise{add,no_inplace},fun2:<function max at 0x7f8cb76fb6e0>,              update_method:<function nesterov_momentum at 0x7f8c9bd15140>, update_para:{'learning_rate': 2.5e-06, 'momentum': 0.9709247691509474},  ### Accuracy:0.851467848127 ###\n",
      "batch_size:35, n_layer:1,n_unit:200,cell1:False,cell2:True,cell3:False,           nonlin1:<lasagne.nonlinearities.LeakyRectify object at 0x7f8c9e285d90>,connect1:<function batch_norm at 0x7f8c9bcf4668>,n_dense:150,fun1:Elemwise{maximum,no_inplace},fun2:<function max at 0x7f8cb76fb6e0>,              update_method:<function nesterov_momentum at 0x7f8c9bd15140>, update_para:{'learning_rate': 2e-05, 'momentum': 0.7002855851599744},  ### Accuracy:0.783781837594 ###\n",
      "batch_size:15, n_layer:2,n_unit:300,cell1:False,cell2:True,cell3:False,           nonlin1:<function tanh at 0x7f8c9e28a398>,connect1:<function prelu at 0x7f8c9bd11500>,n_dense:100,fun1:Elemwise{add,no_inplace},fun2:<function sum at 0x7f8cb7718758>,              update_method:<function nesterov_momentum at 0x7f8c9bd15140>, update_para:{'learning_rate': 5e-06, 'momentum': 0.7124795937719479},  ### Accuracy:0.826696500809 ###\n",
      "batch_size:25, n_layer:2,n_unit:300,cell1:False,cell2:False,cell3:True,           nonlin1:<function tanh at 0x7f8c9e28a398>,connect1:<function batch_norm at 0x7f8c9bcf4668>,n_dense:250,fun1:Elemwise{maximum,no_inplace},fun2:<function max at 0x7f8cb76fb6e0>,              update_method:<function adam at 0x7f8c9bd15320>, update_para:{'learning_rate': 5e-06},  ### Accuracy:0.764224584332 ###\n",
      "batch_size:10, n_layer:1,n_unit:400,cell1:False,cell2:False,cell3:False,           nonlin1:<lasagne.nonlinearities.LeakyRectify object at 0x7f8c9e285d90>,connect1:<function prelu at 0x7f8c9bd11500>,n_dense:300,fun1:Elemwise{maximum,no_inplace},fun2:<function max at 0x7f8cb76fb6e0>,              update_method:<function nesterov_momentum at 0x7f8c9bd15140>, update_para:{'learning_rate': 1.25e-06, 'momentum': 0.97764710776996},  ### Accuracy:0.823608913502 ###\n",
      "batch_size:10, n_layer:1,n_unit:400,cell1:False,cell2:False,cell3:False,           nonlin1:<lasagne.nonlinearities.LeakyRectify object at 0x7f8c9e285d90>,connect1:<function prelu at 0x7f8c9bd11500>,n_dense:200,fun1:Elemwise{maximum,no_inplace},fun2:<function max at 0x7f8cb76fb6e0>,              update_method:<function nesterov_momentum at 0x7f8c9bd15140>, update_para:{'learning_rate': 2.5e-06, 'momentum': 0.9513330313854846},  ### Accuracy:0.850321224294 ###\n",
      "batch_size:10, n_layer:1,n_unit:400,cell1:False,cell2:False,cell3:False,           nonlin1:<lasagne.nonlinearities.LeakyRectify object at 0x7f8c9e285d90>,connect1:<function prelu at 0x7f8c9bd11500>,n_dense:300,fun1:Elemwise{maximum,no_inplace},fun2:<function max at 0x7f8cb76fb6e0>,              update_method:<function nesterov_momentum at 0x7f8c9bd15140>, update_para:{'learning_rate': 1.25e-06, 'momentum': 0.9156876448707161},  ### Accuracy:0.813736635124 ###\n",
      "batch_size:15, n_layer:1,n_unit:500,cell1:False,cell2:False,cell3:False,           nonlin1:<lasagne.nonlinearities.LeakyRectify object at 0x7f8c9e285d90>,connect1:<function rrelu at 0x7f8c9bd11668>,n_dense:150,fun1:Elemwise{add,no_inplace},fun2:<function max at 0x7f8cb76fb6e0>,              update_method:<function nesterov_momentum at 0x7f8c9bd15140>, update_para:{'learning_rate': 5e-06, 'momentum': 0.8889363351979228},  ### Accuracy:0.829457407137 ###\n"
     ]
    },
    {
     "ename": "KeyboardInterrupt",
     "evalue": "",
     "output_type": "error",
     "traceback": [
      "\u001b[0;31m---------------------------------------------------------------------------\u001b[0m",
      "\u001b[0;31mKeyboardInterrupt\u001b[0m                         Traceback (most recent call last)",
      "\u001b[0;32m<ipython-input-92-23805e24bbc2>\u001b[0m in \u001b[0;36m<module>\u001b[0;34m()\u001b[0m\n\u001b[0;32m----> 1\u001b[0;31m \u001b[0mbest\u001b[0m \u001b[0;34m=\u001b[0m \u001b[0mfmin\u001b[0m\u001b[0;34m(\u001b[0m\u001b[0mhyperPara_RNN\u001b[0m\u001b[0;34m,\u001b[0m \u001b[0mspace\u001b[0m\u001b[0;34m,\u001b[0m \u001b[0malgo\u001b[0m\u001b[0;34m=\u001b[0m\u001b[0mtpe\u001b[0m\u001b[0;34m.\u001b[0m\u001b[0msuggest\u001b[0m\u001b[0;34m,\u001b[0m \u001b[0mtrials\u001b[0m\u001b[0;34m=\u001b[0m\u001b[0mtrials\u001b[0m\u001b[0;34m,\u001b[0m \u001b[0mmax_evals\u001b[0m\u001b[0;34m=\u001b[0m\u001b[0;36m50\u001b[0m\u001b[0;34m)\u001b[0m\u001b[0;34m\u001b[0m\u001b[0m\n\u001b[0m",
      "\u001b[0;32m/home/will/anaconda2/lib/python2.7/site-packages/hyperopt/fmin.pyc\u001b[0m in \u001b[0;36mfmin\u001b[0;34m(fn, space, algo, max_evals, trials, rseed)\u001b[0m\n\u001b[1;32m    332\u001b[0m \u001b[0;34m\u001b[0m\u001b[0m\n\u001b[1;32m    333\u001b[0m     \u001b[0mrval\u001b[0m \u001b[0;34m=\u001b[0m \u001b[0mFMinIter\u001b[0m\u001b[0;34m(\u001b[0m\u001b[0malgo\u001b[0m\u001b[0;34m,\u001b[0m \u001b[0mdomain\u001b[0m\u001b[0;34m,\u001b[0m \u001b[0mtrials\u001b[0m\u001b[0;34m,\u001b[0m \u001b[0mmax_evals\u001b[0m\u001b[0;34m=\u001b[0m\u001b[0mmax_evals\u001b[0m\u001b[0;34m)\u001b[0m\u001b[0;34m\u001b[0m\u001b[0m\n\u001b[0;32m--> 334\u001b[0;31m     \u001b[0mrval\u001b[0m\u001b[0;34m.\u001b[0m\u001b[0mexhaust\u001b[0m\u001b[0;34m(\u001b[0m\u001b[0;34m)\u001b[0m\u001b[0;34m\u001b[0m\u001b[0m\n\u001b[0m\u001b[1;32m    335\u001b[0m     \u001b[0;32mreturn\u001b[0m \u001b[0mtrials\u001b[0m\u001b[0;34m.\u001b[0m\u001b[0margmin\u001b[0m\u001b[0;34m\u001b[0m\u001b[0m\n\u001b[1;32m    336\u001b[0m \u001b[0;34m\u001b[0m\u001b[0m\n",
      "\u001b[0;32m/home/will/anaconda2/lib/python2.7/site-packages/hyperopt/fmin.pyc\u001b[0m in \u001b[0;36mexhaust\u001b[0;34m(self)\u001b[0m\n\u001b[1;32m    292\u001b[0m     \u001b[0;32mdef\u001b[0m \u001b[0mexhaust\u001b[0m\u001b[0;34m(\u001b[0m\u001b[0mself\u001b[0m\u001b[0;34m)\u001b[0m\u001b[0;34m:\u001b[0m\u001b[0;34m\u001b[0m\u001b[0m\n\u001b[1;32m    293\u001b[0m         \u001b[0mn_done\u001b[0m \u001b[0;34m=\u001b[0m \u001b[0mlen\u001b[0m\u001b[0;34m(\u001b[0m\u001b[0mself\u001b[0m\u001b[0;34m.\u001b[0m\u001b[0mtrials\u001b[0m\u001b[0;34m)\u001b[0m\u001b[0;34m\u001b[0m\u001b[0m\n\u001b[0;32m--> 294\u001b[0;31m         \u001b[0mself\u001b[0m\u001b[0;34m.\u001b[0m\u001b[0mrun\u001b[0m\u001b[0;34m(\u001b[0m\u001b[0mself\u001b[0m\u001b[0;34m.\u001b[0m\u001b[0mmax_evals\u001b[0m \u001b[0;34m-\u001b[0m \u001b[0mn_done\u001b[0m\u001b[0;34m,\u001b[0m \u001b[0mblock_until_done\u001b[0m\u001b[0;34m=\u001b[0m\u001b[0mself\u001b[0m\u001b[0;34m.\u001b[0m\u001b[0masync\u001b[0m\u001b[0;34m)\u001b[0m\u001b[0;34m\u001b[0m\u001b[0m\n\u001b[0m\u001b[1;32m    295\u001b[0m         \u001b[0mself\u001b[0m\u001b[0;34m.\u001b[0m\u001b[0mtrials\u001b[0m\u001b[0;34m.\u001b[0m\u001b[0mrefresh\u001b[0m\u001b[0;34m(\u001b[0m\u001b[0;34m)\u001b[0m\u001b[0;34m\u001b[0m\u001b[0m\n\u001b[1;32m    296\u001b[0m         \u001b[0;32mreturn\u001b[0m \u001b[0mself\u001b[0m\u001b[0;34m\u001b[0m\u001b[0m\n",
      "\u001b[0;32m/home/will/anaconda2/lib/python2.7/site-packages/hyperopt/fmin.pyc\u001b[0m in \u001b[0;36mrun\u001b[0;34m(self, N, block_until_done)\u001b[0m\n\u001b[1;32m    266\u001b[0m             \u001b[0;32melse\u001b[0m\u001b[0;34m:\u001b[0m\u001b[0;34m\u001b[0m\u001b[0m\n\u001b[1;32m    267\u001b[0m                 \u001b[0;31m# -- loop over trials and do the jobs directly\u001b[0m\u001b[0;34m\u001b[0m\u001b[0;34m\u001b[0m\u001b[0m\n\u001b[0;32m--> 268\u001b[0;31m                 \u001b[0mself\u001b[0m\u001b[0;34m.\u001b[0m\u001b[0mserial_evaluate\u001b[0m\u001b[0;34m(\u001b[0m\u001b[0;34m)\u001b[0m\u001b[0;34m\u001b[0m\u001b[0m\n\u001b[0m\u001b[1;32m    269\u001b[0m \u001b[0;34m\u001b[0m\u001b[0m\n\u001b[1;32m    270\u001b[0m             \u001b[0;32mif\u001b[0m \u001b[0mstopped\u001b[0m\u001b[0;34m:\u001b[0m\u001b[0;34m\u001b[0m\u001b[0m\n",
      "\u001b[0;32m/home/will/anaconda2/lib/python2.7/site-packages/hyperopt/fmin.pyc\u001b[0m in \u001b[0;36mserial_evaluate\u001b[0;34m(self, N)\u001b[0m\n\u001b[1;32m    185\u001b[0m                 \u001b[0mctrl\u001b[0m \u001b[0;34m=\u001b[0m \u001b[0mbase\u001b[0m\u001b[0;34m.\u001b[0m\u001b[0mCtrl\u001b[0m\u001b[0;34m(\u001b[0m\u001b[0mself\u001b[0m\u001b[0;34m.\u001b[0m\u001b[0mtrials\u001b[0m\u001b[0;34m,\u001b[0m \u001b[0mcurrent_trial\u001b[0m\u001b[0;34m=\u001b[0m\u001b[0mtrial\u001b[0m\u001b[0;34m)\u001b[0m\u001b[0;34m\u001b[0m\u001b[0m\n\u001b[1;32m    186\u001b[0m                 \u001b[0;32mtry\u001b[0m\u001b[0;34m:\u001b[0m\u001b[0;34m\u001b[0m\u001b[0m\n\u001b[0;32m--> 187\u001b[0;31m                     \u001b[0mresult\u001b[0m \u001b[0;34m=\u001b[0m \u001b[0mself\u001b[0m\u001b[0;34m.\u001b[0m\u001b[0mdomain\u001b[0m\u001b[0;34m.\u001b[0m\u001b[0mevaluate\u001b[0m\u001b[0;34m(\u001b[0m\u001b[0mspec\u001b[0m\u001b[0;34m,\u001b[0m \u001b[0mctrl\u001b[0m\u001b[0;34m)\u001b[0m\u001b[0;34m\u001b[0m\u001b[0m\n\u001b[0m\u001b[1;32m    188\u001b[0m                 \u001b[0;32mexcept\u001b[0m \u001b[0mException\u001b[0m\u001b[0;34m,\u001b[0m \u001b[0me\u001b[0m\u001b[0;34m:\u001b[0m\u001b[0;34m\u001b[0m\u001b[0m\n\u001b[1;32m    189\u001b[0m                     \u001b[0mlogger\u001b[0m\u001b[0;34m.\u001b[0m\u001b[0minfo\u001b[0m\u001b[0;34m(\u001b[0m\u001b[0;34m'job exception: %s'\u001b[0m \u001b[0;34m%\u001b[0m \u001b[0mstr\u001b[0m\u001b[0;34m(\u001b[0m\u001b[0me\u001b[0m\u001b[0;34m)\u001b[0m\u001b[0;34m)\u001b[0m\u001b[0;34m\u001b[0m\u001b[0m\n",
      "\u001b[0;32m/home/will/anaconda2/lib/python2.7/site-packages/hyperopt/fmin.pyc\u001b[0m in \u001b[0;36mevaluate\u001b[0;34m(self, config, ctrl, attach_attachments)\u001b[0m\n\u001b[1;32m    112\u001b[0m             pyll_rval = pyll.rec_eval(self.expr, memo=memo,\n\u001b[1;32m    113\u001b[0m                     print_node_on_error=self.rec_eval_print_node_on_error)\n\u001b[0;32m--> 114\u001b[0;31m             \u001b[0mrval\u001b[0m \u001b[0;34m=\u001b[0m \u001b[0mself\u001b[0m\u001b[0;34m.\u001b[0m\u001b[0mfn\u001b[0m\u001b[0;34m(\u001b[0m\u001b[0mpyll_rval\u001b[0m\u001b[0;34m)\u001b[0m\u001b[0;34m\u001b[0m\u001b[0m\n\u001b[0m\u001b[1;32m    115\u001b[0m \u001b[0;34m\u001b[0m\u001b[0m\n\u001b[1;32m    116\u001b[0m         \u001b[0;32mif\u001b[0m \u001b[0misinstance\u001b[0m\u001b[0;34m(\u001b[0m\u001b[0mrval\u001b[0m\u001b[0;34m,\u001b[0m \u001b[0;34m(\u001b[0m\u001b[0mfloat\u001b[0m\u001b[0;34m,\u001b[0m \u001b[0mint\u001b[0m\u001b[0;34m,\u001b[0m \u001b[0mnp\u001b[0m\u001b[0;34m.\u001b[0m\u001b[0mnumber\u001b[0m\u001b[0;34m)\u001b[0m\u001b[0;34m)\u001b[0m\u001b[0;34m:\u001b[0m\u001b[0;34m\u001b[0m\u001b[0m\n",
      "\u001b[0;32m<ipython-input-89-66b40edd76e8>\u001b[0m in \u001b[0;36mhyperPara_RNN\u001b[0;34m(params)\u001b[0m\n\u001b[1;32m     25\u001b[0m \u001b[0;34m\u001b[0m\u001b[0m\n\u001b[1;32m     26\u001b[0m         \u001b[0;32mfor\u001b[0m \u001b[0mx_bat\u001b[0m\u001b[0;34m,\u001b[0m\u001b[0my_bat\u001b[0m \u001b[0;32min\u001b[0m \u001b[0mbatch_iterator_rnn\u001b[0m\u001b[0;34m(\u001b[0m\u001b[0mX_train\u001b[0m\u001b[0;34m,\u001b[0m \u001b[0my_train\u001b[0m\u001b[0;34m,\u001b[0m \u001b[0mmodel\u001b[0m\u001b[0;34m,\u001b[0m \u001b[0mbatch_size\u001b[0m\u001b[0;34m,\u001b[0m \u001b[0mshuffle\u001b[0m\u001b[0;34m=\u001b[0m\u001b[0mTrue\u001b[0m\u001b[0;34m,\u001b[0m \u001b[0msublen\u001b[0m\u001b[0;34m=\u001b[0m\u001b[0;36m1.0\u001b[0m\u001b[0;34m)\u001b[0m\u001b[0;34m:\u001b[0m\u001b[0;34m\u001b[0m\u001b[0m\n\u001b[0;32m---> 27\u001b[0;31m             \u001b[0mtrain_fn\u001b[0m\u001b[0;34m(\u001b[0m\u001b[0mx_bat\u001b[0m\u001b[0;34m,\u001b[0m\u001b[0my_bat\u001b[0m\u001b[0;34m)\u001b[0m\u001b[0;34m\u001b[0m\u001b[0m\n\u001b[0m\u001b[1;32m     28\u001b[0m \u001b[0;34m\u001b[0m\u001b[0m\n\u001b[1;32m     29\u001b[0m         \u001b[0;32mfor\u001b[0m \u001b[0mx_bat\u001b[0m\u001b[0;34m,\u001b[0m\u001b[0mbatch\u001b[0m \u001b[0;32min\u001b[0m \u001b[0mbatch_iterator_rnn\u001b[0m\u001b[0;34m(\u001b[0m\u001b[0mX_val\u001b[0m\u001b[0;34m,\u001b[0m \u001b[0mNone\u001b[0m\u001b[0;34m,\u001b[0m \u001b[0mmodel\u001b[0m\u001b[0;34m,\u001b[0m \u001b[0mbatch_size\u001b[0m\u001b[0;34m,\u001b[0m \u001b[0mshuffle\u001b[0m\u001b[0;34m=\u001b[0m\u001b[0mFalse\u001b[0m\u001b[0;34m,\u001b[0m \u001b[0msublen\u001b[0m\u001b[0;34m=\u001b[0m\u001b[0;36m1.0\u001b[0m\u001b[0;34m)\u001b[0m\u001b[0;34m:\u001b[0m\u001b[0;34m\u001b[0m\u001b[0m\n",
      "\u001b[0;32m/home/will/anaconda2/lib/python2.7/site-packages/theano/compile/function_module.pyc\u001b[0m in \u001b[0;36m__call__\u001b[0;34m(self, *args, **kwargs)\u001b[0m\n\u001b[1;32m    864\u001b[0m         \u001b[0;32mtry\u001b[0m\u001b[0;34m:\u001b[0m\u001b[0;34m\u001b[0m\u001b[0m\n\u001b[1;32m    865\u001b[0m             \u001b[0moutputs\u001b[0m \u001b[0;34m=\u001b[0m\u001b[0;31m\\\u001b[0m\u001b[0;34m\u001b[0m\u001b[0m\n\u001b[0;32m--> 866\u001b[0;31m                 \u001b[0mself\u001b[0m\u001b[0;34m.\u001b[0m\u001b[0mfn\u001b[0m\u001b[0;34m(\u001b[0m\u001b[0;34m)\u001b[0m \u001b[0;32mif\u001b[0m \u001b[0moutput_subset\u001b[0m \u001b[0;32mis\u001b[0m \u001b[0mNone\u001b[0m \u001b[0;32melse\u001b[0m\u001b[0;31m\\\u001b[0m\u001b[0;34m\u001b[0m\u001b[0m\n\u001b[0m\u001b[1;32m    867\u001b[0m                 \u001b[0mself\u001b[0m\u001b[0;34m.\u001b[0m\u001b[0mfn\u001b[0m\u001b[0;34m(\u001b[0m\u001b[0moutput_subset\u001b[0m\u001b[0;34m=\u001b[0m\u001b[0moutput_subset\u001b[0m\u001b[0;34m)\u001b[0m\u001b[0;34m\u001b[0m\u001b[0m\n\u001b[1;32m    868\u001b[0m         \u001b[0;32mexcept\u001b[0m \u001b[0mException\u001b[0m\u001b[0;34m:\u001b[0m\u001b[0;34m\u001b[0m\u001b[0m\n",
      "\u001b[0;32m/home/will/anaconda2/lib/python2.7/site-packages/theano/scan_module/scan_op.pyc\u001b[0m in \u001b[0;36mrval\u001b[0;34m(p, i, o, n, allow_gc)\u001b[0m\n\u001b[1;32m    950\u001b[0m         def rval(p=p, i=node_input_storage, o=node_output_storage, n=node,\n\u001b[1;32m    951\u001b[0m                  allow_gc=allow_gc):\n\u001b[0;32m--> 952\u001b[0;31m             \u001b[0mr\u001b[0m \u001b[0;34m=\u001b[0m \u001b[0mp\u001b[0m\u001b[0;34m(\u001b[0m\u001b[0mn\u001b[0m\u001b[0;34m,\u001b[0m \u001b[0;34m[\u001b[0m\u001b[0mx\u001b[0m\u001b[0;34m[\u001b[0m\u001b[0;36m0\u001b[0m\u001b[0;34m]\u001b[0m \u001b[0;32mfor\u001b[0m \u001b[0mx\u001b[0m \u001b[0;32min\u001b[0m \u001b[0mi\u001b[0m\u001b[0;34m]\u001b[0m\u001b[0;34m,\u001b[0m \u001b[0mo\u001b[0m\u001b[0;34m)\u001b[0m\u001b[0;34m\u001b[0m\u001b[0m\n\u001b[0m\u001b[1;32m    953\u001b[0m             \u001b[0;32mfor\u001b[0m \u001b[0mo\u001b[0m \u001b[0;32min\u001b[0m \u001b[0mnode\u001b[0m\u001b[0;34m.\u001b[0m\u001b[0moutputs\u001b[0m\u001b[0;34m:\u001b[0m\u001b[0;34m\u001b[0m\u001b[0m\n\u001b[1;32m    954\u001b[0m                 \u001b[0mcompute_map\u001b[0m\u001b[0;34m[\u001b[0m\u001b[0mo\u001b[0m\u001b[0;34m]\u001b[0m\u001b[0;34m[\u001b[0m\u001b[0;36m0\u001b[0m\u001b[0;34m]\u001b[0m \u001b[0;34m=\u001b[0m \u001b[0mTrue\u001b[0m\u001b[0;34m\u001b[0m\u001b[0m\n",
      "\u001b[0;32m/home/will/anaconda2/lib/python2.7/site-packages/theano/scan_module/scan_op.pyc\u001b[0m in \u001b[0;36m<lambda>\u001b[0;34m(node, args, outs)\u001b[0m\n\u001b[1;32m    939\u001b[0m                         \u001b[0margs\u001b[0m\u001b[0;34m,\u001b[0m\u001b[0;34m\u001b[0m\u001b[0m\n\u001b[1;32m    940\u001b[0m                         \u001b[0mouts\u001b[0m\u001b[0;34m,\u001b[0m\u001b[0;34m\u001b[0m\u001b[0m\n\u001b[0;32m--> 941\u001b[0;31m                         self, node)\n\u001b[0m\u001b[1;32m    942\u001b[0m         \u001b[0;32mexcept\u001b[0m \u001b[0;34m(\u001b[0m\u001b[0mImportError\u001b[0m\u001b[0;34m,\u001b[0m \u001b[0mtheano\u001b[0m\u001b[0;34m.\u001b[0m\u001b[0mgof\u001b[0m\u001b[0;34m.\u001b[0m\u001b[0mcmodule\u001b[0m\u001b[0;34m.\u001b[0m\u001b[0mMissingGXX\u001b[0m\u001b[0;34m)\u001b[0m\u001b[0;34m:\u001b[0m\u001b[0;34m\u001b[0m\u001b[0m\n\u001b[1;32m    943\u001b[0m             \u001b[0mp\u001b[0m \u001b[0;34m=\u001b[0m \u001b[0mself\u001b[0m\u001b[0;34m.\u001b[0m\u001b[0mexecute\u001b[0m\u001b[0;34m\u001b[0m\u001b[0m\n",
      "\u001b[0;31mKeyboardInterrupt\u001b[0m: "
     ]
    }
   ],
   "source": [
    "best = fmin(hyperPara_RNN, space, algo=tpe.suggest, trials=trials, max_evals=50)"
   ]
  },
  {
   "cell_type": "code",
   "execution_count": null,
   "metadata": {
    "collapsed": true
   },
   "outputs": [],
   "source": []
  },
  {
   "cell_type": "code",
   "execution_count": null,
   "metadata": {
    "collapsed": true
   },
   "outputs": [],
   "source": []
  },
  {
   "cell_type": "markdown",
   "metadata": {},
   "source": [
    "<a id='model2'></a>\n",
    "Model2 - RNN over word2vec from google"
   ]
  },
  {
   "cell_type": "code",
   "execution_count": 328,
   "metadata": {
    "collapsed": true
   },
   "outputs": [],
   "source": [
    "X_tt = tt.tensor3()\n",
    "y_tt = tt.matrix()\n",
    "learning_rate_tt = tt.scalar()\n",
    "m_tt = tt.scalar()"
   ]
  },
  {
   "cell_type": "code",
   "execution_count": 329,
   "metadata": {
    "collapsed": false
   },
   "outputs": [],
   "source": [
    "l_in = InputLayer(shape=(10,None,300),input_var=X_tt)\n",
    "# first layer \n",
    "net_fw = GRULayer(l_in,150,grad_clipping=100.,\\\n",
    "        hidden_update=lasagne.layers.Gate(W_cell=None, nonlinearity=lasagne.nonlinearities.very_leaky_rectify))\n",
    "net_bw = GRULayer(l_in,150,grad_clipping=100.,backwards=True,\\\n",
    "        hidden_update=lasagne.layers.Gate(W_cell=None, nonlinearity=lasagne.nonlinearities.very_leaky_rectify))\n",
    "#net = ElemwiseMergeLayer([net_fw,net_bw],merge_function=tt.maximum)\n",
    "net = rrelu(ElemwiseMergeLayer([net_fw,net_bw],merge_function=tt.add))\n",
    "# second layer \n",
    "net_fw = GRULayer(net,150,grad_clipping=100.,\\\n",
    "        hidden_update=lasagne.layers.Gate(W_cell=None, nonlinearity=lasagne.nonlinearities.very_leaky_rectify))\n",
    "net_bw = GRULayer(net,150,grad_clipping=100.,backwards=True,\\\n",
    "        hidden_update=lasagne.layers.Gate(W_cell=None, nonlinearity=lasagne.nonlinearities.very_leaky_rectify))\n",
    "#net = ElemwiseMergeLayer([net_fw,net_bw],merge_function=tt.maximum)\n",
    "net = rrelu(ElemwiseMergeLayer([net_fw,net_bw],merge_function=tt.add))\n",
    "# third layer \n",
    "#net_fw = GRULayer(net,150,grad_clipping=100.,\\\n",
    "#        hidden_update=lasagne.layers.Gate(W_cell=None, nonlinearity=lasagne.nonlinearities.very_leaky_rectify))\n",
    "#net_bw = GRULayer(net,150,grad_clipping=100.,backwards=True,\\\n",
    "#        hidden_update=lasagne.layers.Gate(W_cell=None, nonlinearity=lasagne.nonlinearities.very_leaky_rectify))\n",
    "#net = ElemwiseMergeLayer([net_fw,net_bw],merge_function=tt.maximum)\n",
    "\n",
    "net = rrelu(ExpressionLayer(net, lambda X: tt.sum(X,1),output_shape=(10,150)))\n",
    "#net = ExpressionLayer(net, lambda X: tt.max(X,1),output_shape=(10,150))\n",
    "net = rrelu(DenseLayer(net, num_units=50))\n",
    "net = DenseLayer(net, num_units=2,nonlinearity=tt.nnet.softmax)"
   ]
  },
  {
   "cell_type": "code",
   "execution_count": 330,
   "metadata": {
    "collapsed": false
   },
   "outputs": [],
   "source": [
    "Y_hat = layers.get_output(net)"
   ]
  },
  {
   "cell_type": "code",
   "execution_count": 331,
   "metadata": {
    "collapsed": true
   },
   "outputs": [],
   "source": [
    "cost = -tt.sum(tt.log(Y_hat)*y_tt)"
   ]
  },
  {
   "cell_type": "code",
   "execution_count": 332,
   "metadata": {
    "collapsed": false
   },
   "outputs": [],
   "source": [
    "err = tt.sum(tt.eq(tt.argmax(Y_hat,1),tt.argmax(y_tt,1)))"
   ]
  },
  {
   "cell_type": "code",
   "execution_count": 333,
   "metadata": {
    "collapsed": false
   },
   "outputs": [],
   "source": [
    "params = lasagne.layers.get_all_params(net, trainable=True)\n",
    "updates = lasagne.updates.nesterov_momentum(\n",
    "            cost, params, learning_rate=learning_rate_tt, momentum=m_tt)"
   ]
  },
  {
   "cell_type": "code",
   "execution_count": 334,
   "metadata": {
    "collapsed": true
   },
   "outputs": [],
   "source": [
    "train_fn = theano.function([X_tt, y_tt,learning_rate_tt,m_tt], updates=updates)"
   ]
  },
  {
   "cell_type": "code",
   "execution_count": 335,
   "metadata": {
    "collapsed": true
   },
   "outputs": [],
   "source": [
    "predict  = theano.function([X_tt],Y_hat)"
   ]
  },
  {
   "cell_type": "code",
   "execution_count": 336,
   "metadata": {
    "collapsed": true
   },
   "outputs": [],
   "source": [
    "loss = theano.function([X_tt, y_tt], err)"
   ]
  },
  {
   "cell_type": "code",
   "execution_count": 52,
   "metadata": {
    "collapsed": false
   },
   "outputs": [
    {
     "name": "stderr",
     "output_type": "stream",
     "text": [
      "/home/will/anaconda2/lib/python2.7/site-packages/ipykernel/__main__.py:32: FutureWarning: comparison to `None` will result in an elementwise object comparison in the future.\n"
     ]
    },
    {
     "name": "stdout",
     "output_type": "stream",
     "text": [
      "epoch:0, accuracy:0.836342190764\n",
      "epoch:1, accuracy:0.841098627412\n",
      "epoch:2, accuracy:0.844984234822\n",
      "epoch:3, accuracy:0.849357423395\n"
     ]
    }
   ],
   "source": [
    "n_batch = 4\n",
    "yhat = np.zeros((len(X_val),2))\n",
    "\n",
    "for i in range(n_batch):\n",
    "    err = 0\n",
    "    \n",
    "    for x_bat,y_bat in batch_iterator_rnn(X_train, y_train, model, 10, shuffle=True, sublen=1.0):\n",
    "        train_fn(x_bat,y_bat)\n",
    "    \n",
    "    for x_bat,batch in batch_iterator_rnn(X_val, None, model, 10, shuffle=False, sublen=1.0):\n",
    "        yhat[batch]=predict(x_bat)\n",
    "        \n",
    "    score_ = roc_auc_score(np.argmax(y_val,1),yhat[:,1])\n",
    "    \n",
    "    print 'epoch:{}, accuracy:{}'.format(i,score_)"
   ]
  },
  {
   "cell_type": "code",
   "execution_count": null,
   "metadata": {
    "collapsed": true
   },
   "outputs": [],
   "source": []
  },
  {
   "cell_type": "code",
   "execution_count": null,
   "metadata": {
    "collapsed": true
   },
   "outputs": [],
   "source": []
  },
  {
   "cell_type": "code",
   "execution_count": null,
   "metadata": {
    "collapsed": true
   },
   "outputs": [],
   "source": []
  },
  {
   "cell_type": "markdown",
   "metadata": {
    "collapsed": true
   },
   "source": [
    "<a id='model3'></a>\n",
    "Model3 - doc2vec using TF-IDF with word2vec"
   ]
  },
  {
   "cell_type": "code",
   "execution_count": 13,
   "metadata": {
    "collapsed": true
   },
   "outputs": [],
   "source": [
    "train_frq = np.zeros((25000,300),dtype='float32')\n",
    "test_frq = np.zeros((25000,300),dtype='float32')"
   ]
  },
  {
   "cell_type": "code",
   "execution_count": 14,
   "metadata": {
    "collapsed": false
   },
   "outputs": [],
   "source": [
    "for i in xrange(25000):\n",
    "    temp = np.zeros(300,dtype='float32')\n",
    "    for j in range(len(X_str[i])):\n",
    "        if X_str[i][j] in model:\n",
    "            temp += model[X_str[i][j]]\n",
    "    train_frq[i] = temp/len(X_str[i])"
   ]
  },
  {
   "cell_type": "code",
   "execution_count": 15,
   "metadata": {
    "collapsed": true
   },
   "outputs": [],
   "source": [
    "for i in xrange(25000):\n",
    "    temp = np.zeros(300,dtype='float32')\n",
    "    for j in range(len(X_str_test[i])):\n",
    "        if X_str_test[i][j] in model:\n",
    "            temp += model[X_str_test[i][j]]\n",
    "    test_frq[i] = temp/len(X_str_test[i])"
   ]
  },
  {
   "cell_type": "code",
   "execution_count": 329,
   "metadata": {
    "collapsed": false
   },
   "outputs": [],
   "source": [
    "def GBM_RandomSearch(X,y,Ntry,M,FixPara,RandomPara):\n",
    "    # FixPara is a dict of fixed para\n",
    "    # RandomPara is a list of tuple para for randomFun\n",
    "    \n",
    "    result = np.zeros((Ntry,5))\n",
    "    \n",
    "    for i in range(Ntry):\n",
    "        RanPara={}\n",
    "        result[i,0] = np.random.randint(*RandomPara[0])\n",
    "        RanPara['subFold'] = result[i,0]\n",
    "        \n",
    "        BasePara={}\n",
    "        result[i,1] = np.random.randint(*RandomPara[1])\n",
    "        BasePara['max_depth'] = result[i,1]\n",
    "        result[i,2] = np.random.uniform(*RandomPara[2])\n",
    "        BasePara['max_features'] = result[i,2]        \n",
    "        RanPara['BasePara']=BasePara\n",
    "        \n",
    "        result[i,3] = np.random.choice(RandomPara[3])\n",
    "        RanPara['learnRate'] = result[i,3]        \n",
    "        \n",
    "        RanPara.update(FixPara)\n",
    "        RanPara['M_est'] = int(M/RanPara['subFold'])\n",
    "        #pdb.set_trace()\n",
    "        model = GBM_KClass(**RanPara)\n",
    "        result[i,4] = model.fit(X,y)\n",
    "        \n",
    "    return pd.DataFrame(result,columns=['subFold','max_depth','max_features','learnRate','acc'])"
   ]
  },
  {
   "cell_type": "code",
   "execution_count": 330,
   "metadata": {
    "collapsed": false
   },
   "outputs": [],
   "source": [
    "randomSearch = GBM_RandomSearch(train_frq,y,20,250,{'BaseEst':ExtraTreeRegressor},\\\n",
    "                                [(2,40),(4,48),(0.05,0.5),np.logspace(-1,-5,10)])"
   ]
  },
  {
   "cell_type": "code",
   "execution_count": 331,
   "metadata": {
    "collapsed": false
   },
   "outputs": [
    {
     "data": {
      "text/html": [
       "<div>\n",
       "<table border=\"1\" class=\"dataframe\">\n",
       "  <thead>\n",
       "    <tr style=\"text-align: right;\">\n",
       "      <th></th>\n",
       "      <th>subFold</th>\n",
       "      <th>max_depth</th>\n",
       "      <th>max_features</th>\n",
       "      <th>learnRate</th>\n",
       "      <th>acc</th>\n",
       "    </tr>\n",
       "  </thead>\n",
       "  <tbody>\n",
       "    <tr>\n",
       "      <th>0</th>\n",
       "      <td>29.0</td>\n",
       "      <td>23.0</td>\n",
       "      <td>0.227052</td>\n",
       "      <td>0.100000</td>\n",
       "      <td>0.882431</td>\n",
       "    </tr>\n",
       "    <tr>\n",
       "      <th>1</th>\n",
       "      <td>21.0</td>\n",
       "      <td>9.0</td>\n",
       "      <td>0.426713</td>\n",
       "      <td>0.000215</td>\n",
       "      <td>0.887170</td>\n",
       "    </tr>\n",
       "    <tr>\n",
       "      <th>2</th>\n",
       "      <td>29.0</td>\n",
       "      <td>29.0</td>\n",
       "      <td>0.424209</td>\n",
       "      <td>0.000077</td>\n",
       "      <td>0.887722</td>\n",
       "    </tr>\n",
       "    <tr>\n",
       "      <th>3</th>\n",
       "      <td>8.0</td>\n",
       "      <td>36.0</td>\n",
       "      <td>0.406933</td>\n",
       "      <td>0.035938</td>\n",
       "      <td>0.903322</td>\n",
       "    </tr>\n",
       "    <tr>\n",
       "      <th>4</th>\n",
       "      <td>2.0</td>\n",
       "      <td>43.0</td>\n",
       "      <td>0.347262</td>\n",
       "      <td>0.000028</td>\n",
       "      <td>0.898256</td>\n",
       "    </tr>\n",
       "    <tr>\n",
       "      <th>5</th>\n",
       "      <td>39.0</td>\n",
       "      <td>39.0</td>\n",
       "      <td>0.381790</td>\n",
       "      <td>0.000028</td>\n",
       "      <td>0.886297</td>\n",
       "    </tr>\n",
       "    <tr>\n",
       "      <th>6</th>\n",
       "      <td>17.0</td>\n",
       "      <td>5.0</td>\n",
       "      <td>0.466869</td>\n",
       "      <td>0.035938</td>\n",
       "      <td>0.899349</td>\n",
       "    </tr>\n",
       "    <tr>\n",
       "      <th>7</th>\n",
       "      <td>2.0</td>\n",
       "      <td>40.0</td>\n",
       "      <td>0.134700</td>\n",
       "      <td>0.000077</td>\n",
       "      <td>0.896429</td>\n",
       "    </tr>\n",
       "    <tr>\n",
       "      <th>8</th>\n",
       "      <td>37.0</td>\n",
       "      <td>27.0</td>\n",
       "      <td>0.427291</td>\n",
       "      <td>0.035938</td>\n",
       "      <td>0.896195</td>\n",
       "    </tr>\n",
       "    <tr>\n",
       "      <th>9</th>\n",
       "      <td>39.0</td>\n",
       "      <td>13.0</td>\n",
       "      <td>0.374025</td>\n",
       "      <td>0.000599</td>\n",
       "      <td>0.886124</td>\n",
       "    </tr>\n",
       "    <tr>\n",
       "      <th>10</th>\n",
       "      <td>17.0</td>\n",
       "      <td>44.0</td>\n",
       "      <td>0.356376</td>\n",
       "      <td>0.000077</td>\n",
       "      <td>0.890132</td>\n",
       "    </tr>\n",
       "    <tr>\n",
       "      <th>11</th>\n",
       "      <td>39.0</td>\n",
       "      <td>31.0</td>\n",
       "      <td>0.183189</td>\n",
       "      <td>0.001668</td>\n",
       "      <td>0.886697</td>\n",
       "    </tr>\n",
       "    <tr>\n",
       "      <th>12</th>\n",
       "      <td>8.0</td>\n",
       "      <td>36.0</td>\n",
       "      <td>0.354583</td>\n",
       "      <td>0.001668</td>\n",
       "      <td>0.895444</td>\n",
       "    </tr>\n",
       "    <tr>\n",
       "      <th>13</th>\n",
       "      <td>11.0</td>\n",
       "      <td>11.0</td>\n",
       "      <td>0.112675</td>\n",
       "      <td>0.012915</td>\n",
       "      <td>0.897376</td>\n",
       "    </tr>\n",
       "    <tr>\n",
       "      <th>14</th>\n",
       "      <td>35.0</td>\n",
       "      <td>30.0</td>\n",
       "      <td>0.490304</td>\n",
       "      <td>0.035938</td>\n",
       "      <td>0.899290</td>\n",
       "    </tr>\n",
       "    <tr>\n",
       "      <th>15</th>\n",
       "      <td>24.0</td>\n",
       "      <td>46.0</td>\n",
       "      <td>0.051674</td>\n",
       "      <td>0.000215</td>\n",
       "      <td>0.884918</td>\n",
       "    </tr>\n",
       "    <tr>\n",
       "      <th>16</th>\n",
       "      <td>18.0</td>\n",
       "      <td>18.0</td>\n",
       "      <td>0.215143</td>\n",
       "      <td>0.100000</td>\n",
       "      <td>0.886997</td>\n",
       "    </tr>\n",
       "    <tr>\n",
       "      <th>17</th>\n",
       "      <td>28.0</td>\n",
       "      <td>16.0</td>\n",
       "      <td>0.292609</td>\n",
       "      <td>0.012915</td>\n",
       "      <td>0.896478</td>\n",
       "    </tr>\n",
       "    <tr>\n",
       "      <th>18</th>\n",
       "      <td>15.0</td>\n",
       "      <td>23.0</td>\n",
       "      <td>0.462714</td>\n",
       "      <td>0.000028</td>\n",
       "      <td>0.890224</td>\n",
       "    </tr>\n",
       "    <tr>\n",
       "      <th>19</th>\n",
       "      <td>15.0</td>\n",
       "      <td>34.0</td>\n",
       "      <td>0.186285</td>\n",
       "      <td>0.000028</td>\n",
       "      <td>0.891508</td>\n",
       "    </tr>\n",
       "  </tbody>\n",
       "</table>\n",
       "</div>"
      ],
      "text/plain": [
       "    subFold  max_depth  max_features  learnRate       acc\n",
       "0      29.0       23.0      0.227052   0.100000  0.882431\n",
       "1      21.0        9.0      0.426713   0.000215  0.887170\n",
       "2      29.0       29.0      0.424209   0.000077  0.887722\n",
       "3       8.0       36.0      0.406933   0.035938  0.903322\n",
       "4       2.0       43.0      0.347262   0.000028  0.898256\n",
       "5      39.0       39.0      0.381790   0.000028  0.886297\n",
       "6      17.0        5.0      0.466869   0.035938  0.899349\n",
       "7       2.0       40.0      0.134700   0.000077  0.896429\n",
       "8      37.0       27.0      0.427291   0.035938  0.896195\n",
       "9      39.0       13.0      0.374025   0.000599  0.886124\n",
       "10     17.0       44.0      0.356376   0.000077  0.890132\n",
       "11     39.0       31.0      0.183189   0.001668  0.886697\n",
       "12      8.0       36.0      0.354583   0.001668  0.895444\n",
       "13     11.0       11.0      0.112675   0.012915  0.897376\n",
       "14     35.0       30.0      0.490304   0.035938  0.899290\n",
       "15     24.0       46.0      0.051674   0.000215  0.884918\n",
       "16     18.0       18.0      0.215143   0.100000  0.886997\n",
       "17     28.0       16.0      0.292609   0.012915  0.896478\n",
       "18     15.0       23.0      0.462714   0.000028  0.890224\n",
       "19     15.0       34.0      0.186285   0.000028  0.891508"
      ]
     },
     "execution_count": 331,
     "metadata": {},
     "output_type": "execute_result"
    }
   ],
   "source": [
    "randomSearch"
   ]
  },
  {
   "cell_type": "code",
   "execution_count": 332,
   "metadata": {
    "collapsed": true
   },
   "outputs": [],
   "source": [
    "from sklearn.linear_model import LinearRegression"
   ]
  },
  {
   "cell_type": "code",
   "execution_count": 334,
   "metadata": {
    "collapsed": false
   },
   "outputs": [],
   "source": [
    "a=LinearRegression().fit(randomSearch.iloc[:,:4].values,randomSearch.iloc[:,4].values)"
   ]
  },
  {
   "cell_type": "code",
   "execution_count": 335,
   "metadata": {
    "collapsed": false
   },
   "outputs": [
    {
     "data": {
      "text/plain": [
       "array([ -2.72995647e-04,  -1.34688300e-05,   1.72143414e-02,\n",
       "        -4.51135412e-03])"
      ]
     },
     "execution_count": 335,
     "metadata": {},
     "output_type": "execute_result"
    }
   ],
   "source": [
    "a.coef_"
   ]
  },
  {
   "cell_type": "code",
   "execution_count": null,
   "metadata": {
    "collapsed": true
   },
   "outputs": [],
   "source": []
  },
  {
   "cell_type": "markdown",
   "metadata": {},
   "source": [
    "refit with best para"
   ]
  },
  {
   "cell_type": "code",
   "execution_count": 336,
   "metadata": {
    "collapsed": false
   },
   "outputs": [],
   "source": [
    "model1=GBM_KClass(ExtraTreeRegressor,20,1e-4,\\\n",
    "{'max_depth':16,'splitter':'random','max_features':0.4},10)"
   ]
  },
  {
   "cell_type": "code",
   "execution_count": 337,
   "metadata": {
    "collapsed": false
   },
   "outputs": [
    {
     "data": {
      "text/plain": [
       "0.89190887679999997"
      ]
     },
     "execution_count": 337,
     "metadata": {},
     "output_type": "execute_result"
    }
   ],
   "source": [
    "model1.fit(train_frq,y)"
   ]
  },
  {
   "cell_type": "code",
   "execution_count": 338,
   "metadata": {
    "collapsed": false
   },
   "outputs": [
    {
     "data": {
      "image/png": "[encoded data removed]",
      "text/plain": [
       "<matplotlib.figure.Figure at 0x7fa9d1729b10>"
      ]
     },
     "metadata": {},
     "output_type": "display_data"
    }
   ],
   "source": [
    "model1.plot(train_frq,y)"
   ]
  },
  {
   "cell_type": "code",
   "execution_count": null,
   "metadata": {
    "collapsed": true
   },
   "outputs": [],
   "source": []
  },
  {
   "cell_type": "markdown",
   "metadata": {
    "collapsed": true
   },
   "source": [
    "<a id='predict'></a>\n",
    "Model Submission"
   ]
  },
  {
   "cell_type": "code",
   "execution_count": 37,
   "metadata": {
    "collapsed": false
   },
   "outputs": [],
   "source": [
    "y_test = np.zeros((len(X_str_test),2))\n",
    "for _ in range(10):\n",
    "    for x_bat,bat in batch_iterator(X_str_test, None, model, 10, shuffle=True, sublen=1.0):\n",
    "        y_test[bat] = y_test[bat] +  predict(x_bat)"
   ]
  },
  {
   "cell_type": "code",
   "execution_count": 38,
   "metadata": {
    "collapsed": false,
    "scrolled": true
   },
   "outputs": [],
   "source": [
    "test['sentiment'] = y_test[:,1]/10\n",
    "test['id'] = test.id.str.replace('\"','')"
   ]
  },
  {
   "cell_type": "code",
   "execution_count": 339,
   "metadata": {
    "collapsed": false
   },
   "outputs": [],
   "source": [
    "test['sentiment'] = model1.predict_proba(test_frq)[:,1]\n",
    "test['id'] = test.id.str.replace('\"','')"
   ]
  },
  {
   "cell_type": "code",
   "execution_count": 39,
   "metadata": {
    "collapsed": false
   },
   "outputs": [],
   "source": [
    "test.drop('review',1)\\\n",
    "    .to_csv(r'/home/will/Desktop/data/Movie sentiment/model1.csv',index=False)"
   ]
  },
  {
   "cell_type": "code",
   "execution_count": null,
   "metadata": {
    "collapsed": true
   },
   "outputs": [],
   "source": []
  }
 ],
 "metadata": {
  "anaconda-cloud": {},
  "kernelspec": {
   "display_name": "Python [conda root]",
   "language": "python",
   "name": "conda-root-py"
  },
  "language_info": {
   "codemirror_mode": {
    "name": "ipython",
    "version": 2
   },
   "file_extension": ".py",
   "mimetype": "text/x-python",
   "name": "python",
   "nbconvert_exporter": "python",
   "pygments_lexer": "ipython2",
   "version": "2.7.12"
  }
 },
 "nbformat": 4,
 "nbformat_minor": 1
}
